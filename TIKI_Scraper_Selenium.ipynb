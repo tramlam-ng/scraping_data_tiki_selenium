{
  "nbformat": 4,
  "nbformat_minor": 0,
  "metadata": {
    "colab": {
      "name": "TL W1_D6_TIKI Scraper.ipynb",
      "provenance": [],
      "collapsed_sections": [
        "1PxiWLQ2Xoc9"
      ],
      "include_colab_link": true
    },
    "kernelspec": {
      "name": "python3",
      "display_name": "Python 3"
    },
    "language_info": {
      "name": "python"
    }
  },
  "cells": [
    {
      "cell_type": "markdown",
      "metadata": {
        "id": "view-in-github",
        "colab_type": "text"
      },
      "source": [
        "<a href=\"https://colab.research.google.com/github/tramlam-ng/scraping_data_tiki_selenium/blob/main/TIKI_Scraper_Selenium.ipynb\" target=\"_parent\"><img src=\"https://colab.research.google.com/assets/colab-badge.svg\" alt=\"Open In Colab\"/></a>"
      ]
    },
    {
      "cell_type": "markdown",
      "metadata": {
        "id": "y9YQJxiiXiZ-"
      },
      "source": [
        "#Install resources"
      ]
    },
    {
      "cell_type": "code",
      "metadata": {
        "id": "WH7Z6VRFLYm2",
        "colab": {
          "base_uri": "https://localhost:8080/"
        },
        "outputId": "c61a03d4-2d75-4d2d-d150-979eb6fe921d"
      },
      "source": [
        "# install selenium and other resources for crawling data\n",
        "!pip install selenium\n",
        "!apt-get update\n",
        "!apt install chromium-chromedriver"
      ],
      "execution_count": null,
      "outputs": [
        {
          "output_type": "stream",
          "text": [
            "Collecting selenium\n",
            "  Downloading selenium-3.141.0-py2.py3-none-any.whl (904 kB)\n",
            "\u001b[?25l\r\u001b[K     |▍                               | 10 kB 22.0 MB/s eta 0:00:01\r\u001b[K     |▊                               | 20 kB 22.9 MB/s eta 0:00:01\r\u001b[K     |█                               | 30 kB 26.8 MB/s eta 0:00:01\r\u001b[K     |█▌                              | 40 kB 20.7 MB/s eta 0:00:01\r\u001b[K     |█▉                              | 51 kB 9.1 MB/s eta 0:00:01\r\u001b[K     |██▏                             | 61 kB 10.4 MB/s eta 0:00:01\r\u001b[K     |██▌                             | 71 kB 10.1 MB/s eta 0:00:01\r\u001b[K     |███                             | 81 kB 11.1 MB/s eta 0:00:01\r\u001b[K     |███▎                            | 92 kB 11.6 MB/s eta 0:00:01\r\u001b[K     |███▋                            | 102 kB 9.4 MB/s eta 0:00:01\r\u001b[K     |████                            | 112 kB 9.4 MB/s eta 0:00:01\r\u001b[K     |████▍                           | 122 kB 9.4 MB/s eta 0:00:01\r\u001b[K     |████▊                           | 133 kB 9.4 MB/s eta 0:00:01\r\u001b[K     |█████                           | 143 kB 9.4 MB/s eta 0:00:01\r\u001b[K     |█████▍                          | 153 kB 9.4 MB/s eta 0:00:01\r\u001b[K     |█████▉                          | 163 kB 9.4 MB/s eta 0:00:01\r\u001b[K     |██████▏                         | 174 kB 9.4 MB/s eta 0:00:01\r\u001b[K     |██████▌                         | 184 kB 9.4 MB/s eta 0:00:01\r\u001b[K     |██████▉                         | 194 kB 9.4 MB/s eta 0:00:01\r\u001b[K     |███████▎                        | 204 kB 9.4 MB/s eta 0:00:01\r\u001b[K     |███████▋                        | 215 kB 9.4 MB/s eta 0:00:01\r\u001b[K     |████████                        | 225 kB 9.4 MB/s eta 0:00:01\r\u001b[K     |████████▎                       | 235 kB 9.4 MB/s eta 0:00:01\r\u001b[K     |████████▊                       | 245 kB 9.4 MB/s eta 0:00:01\r\u001b[K     |█████████                       | 256 kB 9.4 MB/s eta 0:00:01\r\u001b[K     |█████████▍                      | 266 kB 9.4 MB/s eta 0:00:01\r\u001b[K     |█████████▉                      | 276 kB 9.4 MB/s eta 0:00:01\r\u001b[K     |██████████▏                     | 286 kB 9.4 MB/s eta 0:00:01\r\u001b[K     |██████████▌                     | 296 kB 9.4 MB/s eta 0:00:01\r\u001b[K     |██████████▉                     | 307 kB 9.4 MB/s eta 0:00:01\r\u001b[K     |███████████▎                    | 317 kB 9.4 MB/s eta 0:00:01\r\u001b[K     |███████████▋                    | 327 kB 9.4 MB/s eta 0:00:01\r\u001b[K     |████████████                    | 337 kB 9.4 MB/s eta 0:00:01\r\u001b[K     |████████████▎                   | 348 kB 9.4 MB/s eta 0:00:01\r\u001b[K     |████████████▊                   | 358 kB 9.4 MB/s eta 0:00:01\r\u001b[K     |█████████████                   | 368 kB 9.4 MB/s eta 0:00:01\r\u001b[K     |█████████████▍                  | 378 kB 9.4 MB/s eta 0:00:01\r\u001b[K     |█████████████▊                  | 389 kB 9.4 MB/s eta 0:00:01\r\u001b[K     |██████████████▏                 | 399 kB 9.4 MB/s eta 0:00:01\r\u001b[K     |██████████████▌                 | 409 kB 9.4 MB/s eta 0:00:01\r\u001b[K     |██████████████▉                 | 419 kB 9.4 MB/s eta 0:00:01\r\u001b[K     |███████████████▏                | 430 kB 9.4 MB/s eta 0:00:01\r\u001b[K     |███████████████▋                | 440 kB 9.4 MB/s eta 0:00:01\r\u001b[K     |████████████████                | 450 kB 9.4 MB/s eta 0:00:01\r\u001b[K     |████████████████▎               | 460 kB 9.4 MB/s eta 0:00:01\r\u001b[K     |████████████████▋               | 471 kB 9.4 MB/s eta 0:00:01\r\u001b[K     |█████████████████               | 481 kB 9.4 MB/s eta 0:00:01\r\u001b[K     |█████████████████▍              | 491 kB 9.4 MB/s eta 0:00:01\r\u001b[K     |█████████████████▊              | 501 kB 9.4 MB/s eta 0:00:01\r\u001b[K     |██████████████████▏             | 512 kB 9.4 MB/s eta 0:00:01\r\u001b[K     |██████████████████▌             | 522 kB 9.4 MB/s eta 0:00:01\r\u001b[K     |██████████████████▉             | 532 kB 9.4 MB/s eta 0:00:01\r\u001b[K     |███████████████████▏            | 542 kB 9.4 MB/s eta 0:00:01\r\u001b[K     |███████████████████▋            | 552 kB 9.4 MB/s eta 0:00:01\r\u001b[K     |████████████████████            | 563 kB 9.4 MB/s eta 0:00:01\r\u001b[K     |████████████████████▎           | 573 kB 9.4 MB/s eta 0:00:01\r\u001b[K     |████████████████████▋           | 583 kB 9.4 MB/s eta 0:00:01\r\u001b[K     |█████████████████████           | 593 kB 9.4 MB/s eta 0:00:01\r\u001b[K     |█████████████████████▍          | 604 kB 9.4 MB/s eta 0:00:01\r\u001b[K     |█████████████████████▊          | 614 kB 9.4 MB/s eta 0:00:01\r\u001b[K     |██████████████████████          | 624 kB 9.4 MB/s eta 0:00:01\r\u001b[K     |██████████████████████▌         | 634 kB 9.4 MB/s eta 0:00:01\r\u001b[K     |██████████████████████▉         | 645 kB 9.4 MB/s eta 0:00:01\r\u001b[K     |███████████████████████▏        | 655 kB 9.4 MB/s eta 0:00:01\r\u001b[K     |███████████████████████▌        | 665 kB 9.4 MB/s eta 0:00:01\r\u001b[K     |████████████████████████        | 675 kB 9.4 MB/s eta 0:00:01\r\u001b[K     |████████████████████████▎       | 686 kB 9.4 MB/s eta 0:00:01\r\u001b[K     |████████████████████████▋       | 696 kB 9.4 MB/s eta 0:00:01\r\u001b[K     |█████████████████████████       | 706 kB 9.4 MB/s eta 0:00:01\r\u001b[K     |█████████████████████████▍      | 716 kB 9.4 MB/s eta 0:00:01\r\u001b[K     |█████████████████████████▊      | 727 kB 9.4 MB/s eta 0:00:01\r\u001b[K     |██████████████████████████      | 737 kB 9.4 MB/s eta 0:00:01\r\u001b[K     |██████████████████████████▍     | 747 kB 9.4 MB/s eta 0:00:01\r\u001b[K     |██████████████████████████▉     | 757 kB 9.4 MB/s eta 0:00:01\r\u001b[K     |███████████████████████████▏    | 768 kB 9.4 MB/s eta 0:00:01\r\u001b[K     |███████████████████████████▌    | 778 kB 9.4 MB/s eta 0:00:01\r\u001b[K     |████████████████████████████    | 788 kB 9.4 MB/s eta 0:00:01\r\u001b[K     |████████████████████████████▎   | 798 kB 9.4 MB/s eta 0:00:01\r\u001b[K     |████████████████████████████▋   | 808 kB 9.4 MB/s eta 0:00:01\r\u001b[K     |█████████████████████████████   | 819 kB 9.4 MB/s eta 0:00:01\r\u001b[K     |█████████████████████████████▍  | 829 kB 9.4 MB/s eta 0:00:01\r\u001b[K     |█████████████████████████████▊  | 839 kB 9.4 MB/s eta 0:00:01\r\u001b[K     |██████████████████████████████  | 849 kB 9.4 MB/s eta 0:00:01\r\u001b[K     |██████████████████████████████▍ | 860 kB 9.4 MB/s eta 0:00:01\r\u001b[K     |██████████████████████████████▉ | 870 kB 9.4 MB/s eta 0:00:01\r\u001b[K     |███████████████████████████████▏| 880 kB 9.4 MB/s eta 0:00:01\r\u001b[K     |███████████████████████████████▌| 890 kB 9.4 MB/s eta 0:00:01\r\u001b[K     |███████████████████████████████▉| 901 kB 9.4 MB/s eta 0:00:01\r\u001b[K     |████████████████████████████████| 904 kB 9.4 MB/s \n",
            "\u001b[?25hRequirement already satisfied: urllib3 in /usr/local/lib/python3.7/dist-packages (from selenium) (1.24.3)\n",
            "Installing collected packages: selenium\n",
            "Successfully installed selenium-3.141.0\n",
            "Get:1 https://cloud.r-project.org/bin/linux/ubuntu bionic-cran40/ InRelease [3,626 B]\n",
            "Ign:2 https://developer.download.nvidia.com/compute/cuda/repos/ubuntu1804/x86_64  InRelease\n",
            "Ign:3 https://developer.download.nvidia.com/compute/machine-learning/repos/ubuntu1804/x86_64  InRelease\n",
            "Get:4 https://developer.download.nvidia.com/compute/cuda/repos/ubuntu1804/x86_64  Release [697 B]\n",
            "Hit:5 https://developer.download.nvidia.com/compute/machine-learning/repos/ubuntu1804/x86_64  Release\n",
            "Get:6 http://security.ubuntu.com/ubuntu bionic-security InRelease [88.7 kB]\n",
            "Get:7 https://developer.download.nvidia.com/compute/cuda/repos/ubuntu1804/x86_64  Release.gpg [836 B]\n",
            "Hit:8 http://archive.ubuntu.com/ubuntu bionic InRelease\n",
            "Get:9 http://ppa.launchpad.net/c2d4u.team/c2d4u4.0+/ubuntu bionic InRelease [15.9 kB]\n",
            "Get:10 http://archive.ubuntu.com/ubuntu bionic-updates InRelease [88.7 kB]\n",
            "Hit:12 http://ppa.launchpad.net/cran/libgit2/ubuntu bionic InRelease\n",
            "Ign:13 https://developer.download.nvidia.com/compute/cuda/repos/ubuntu1804/x86_64  Packages\n",
            "Get:13 https://developer.download.nvidia.com/compute/cuda/repos/ubuntu1804/x86_64  Packages [679 kB]\n",
            "Get:14 http://archive.ubuntu.com/ubuntu bionic-backports InRelease [74.6 kB]\n",
            "Hit:15 http://ppa.launchpad.net/deadsnakes/ppa/ubuntu bionic InRelease\n",
            "Get:16 http://ppa.launchpad.net/graphics-drivers/ppa/ubuntu bionic InRelease [21.3 kB]\n",
            "Get:17 http://security.ubuntu.com/ubuntu bionic-security/multiverse amd64 Packages [31.5 kB]\n",
            "Get:18 http://security.ubuntu.com/ubuntu bionic-security/restricted amd64 Packages [500 kB]\n",
            "Get:19 http://security.ubuntu.com/ubuntu bionic-security/main amd64 Packages [2,257 kB]\n",
            "Get:20 http://ppa.launchpad.net/c2d4u.team/c2d4u4.0+/ubuntu bionic/main Sources [1,785 kB]\n",
            "Get:21 http://security.ubuntu.com/ubuntu bionic-security/universe amd64 Packages [1,420 kB]\n",
            "Get:22 http://archive.ubuntu.com/ubuntu bionic-updates/main amd64 Packages [2,693 kB]\n",
            "Get:23 http://archive.ubuntu.com/ubuntu bionic-updates/restricted amd64 Packages [533 kB]\n",
            "Get:24 http://archive.ubuntu.com/ubuntu bionic-updates/universe amd64 Packages [2,190 kB]\n",
            "Get:25 http://ppa.launchpad.net/c2d4u.team/c2d4u4.0+/ubuntu bionic/main amd64 Packages [913 kB]\n",
            "Get:26 http://archive.ubuntu.com/ubuntu bionic-updates/multiverse amd64 Packages [38.7 kB]\n",
            "Get:27 http://ppa.launchpad.net/graphics-drivers/ppa/ubuntu bionic/main amd64 Packages [44.1 kB]\n",
            "Fetched 13.4 MB in 4s (3,072 kB/s)\n",
            "Reading package lists... Done\n",
            "Reading package lists... Done\n",
            "Building dependency tree       \n",
            "Reading state information... Done\n",
            "The following additional packages will be installed:\n",
            "  chromium-browser chromium-browser-l10n chromium-codecs-ffmpeg-extra\n",
            "Suggested packages:\n",
            "  webaccounts-chromium-extension unity-chromium-extension\n",
            "The following NEW packages will be installed:\n",
            "  chromium-browser chromium-browser-l10n chromium-chromedriver\n",
            "  chromium-codecs-ffmpeg-extra\n",
            "0 upgraded, 4 newly installed, 0 to remove and 80 not upgraded.\n",
            "Need to get 86.0 MB of archives.\n",
            "After this operation, 298 MB of additional disk space will be used.\n",
            "Get:1 http://archive.ubuntu.com/ubuntu bionic-updates/universe amd64 chromium-codecs-ffmpeg-extra amd64 91.0.4472.101-0ubuntu0.18.04.1 [1,124 kB]\n",
            "Get:2 http://archive.ubuntu.com/ubuntu bionic-updates/universe amd64 chromium-browser amd64 91.0.4472.101-0ubuntu0.18.04.1 [76.1 MB]\n",
            "Get:3 http://archive.ubuntu.com/ubuntu bionic-updates/universe amd64 chromium-browser-l10n all 91.0.4472.101-0ubuntu0.18.04.1 [3,937 kB]\n",
            "Get:4 http://archive.ubuntu.com/ubuntu bionic-updates/universe amd64 chromium-chromedriver amd64 91.0.4472.101-0ubuntu0.18.04.1 [4,837 kB]\n",
            "Fetched 86.0 MB in 5s (15.7 MB/s)\n",
            "Selecting previously unselected package chromium-codecs-ffmpeg-extra.\n",
            "(Reading database ... 160837 files and directories currently installed.)\n",
            "Preparing to unpack .../chromium-codecs-ffmpeg-extra_91.0.4472.101-0ubuntu0.18.04.1_amd64.deb ...\n",
            "Unpacking chromium-codecs-ffmpeg-extra (91.0.4472.101-0ubuntu0.18.04.1) ...\n",
            "Selecting previously unselected package chromium-browser.\n",
            "Preparing to unpack .../chromium-browser_91.0.4472.101-0ubuntu0.18.04.1_amd64.deb ...\n",
            "Unpacking chromium-browser (91.0.4472.101-0ubuntu0.18.04.1) ...\n",
            "Selecting previously unselected package chromium-browser-l10n.\n",
            "Preparing to unpack .../chromium-browser-l10n_91.0.4472.101-0ubuntu0.18.04.1_all.deb ...\n",
            "Unpacking chromium-browser-l10n (91.0.4472.101-0ubuntu0.18.04.1) ...\n",
            "Selecting previously unselected package chromium-chromedriver.\n",
            "Preparing to unpack .../chromium-chromedriver_91.0.4472.101-0ubuntu0.18.04.1_amd64.deb ...\n",
            "Unpacking chromium-chromedriver (91.0.4472.101-0ubuntu0.18.04.1) ...\n",
            "Setting up chromium-codecs-ffmpeg-extra (91.0.4472.101-0ubuntu0.18.04.1) ...\n",
            "Setting up chromium-browser (91.0.4472.101-0ubuntu0.18.04.1) ...\n",
            "update-alternatives: using /usr/bin/chromium-browser to provide /usr/bin/x-www-browser (x-www-browser) in auto mode\n",
            "update-alternatives: using /usr/bin/chromium-browser to provide /usr/bin/gnome-www-browser (gnome-www-browser) in auto mode\n",
            "Setting up chromium-chromedriver (91.0.4472.101-0ubuntu0.18.04.1) ...\n",
            "Setting up chromium-browser-l10n (91.0.4472.101-0ubuntu0.18.04.1) ...\n",
            "Processing triggers for man-db (2.8.3-2ubuntu0.1) ...\n",
            "Processing triggers for hicolor-icon-theme (0.17-2) ...\n",
            "Processing triggers for mime-support (3.60ubuntu1) ...\n",
            "Processing triggers for libc-bin (2.27-3ubuntu1.2) ...\n",
            "/sbin/ldconfig.real: /usr/local/lib/python3.7/dist-packages/ideep4py/lib/libmkldnn.so.0 is not a symbolic link\n",
            "\n"
          ],
          "name": "stdout"
        }
      ]
    },
    {
      "cell_type": "code",
      "metadata": {
        "id": "VzYAnIcMLDVc"
      },
      "source": [
        "### IMPORTS ###\n",
        "import re\n",
        "import time\n",
        "import pandas as pd\n",
        "\n",
        "from selenium import webdriver\n",
        "from selenium.common.exceptions import NoSuchElementException"
      ],
      "execution_count": null,
      "outputs": []
    },
    {
      "cell_type": "markdown",
      "metadata": {
        "id": "1PxiWLQ2Xoc9"
      },
      "source": [
        "#Configuration for Driver and links"
      ]
    },
    {
      "cell_type": "code",
      "metadata": {
        "id": "GUk_wQ3SK_Lz"
      },
      "source": [
        "###############\n",
        "### GLOBALS ###\n",
        "###############\n",
        "\n",
        "# Header for chromedriver\n",
        "HEADER = {'User-Agent': 'Mozilla/5.0 (Macintosh; Intel Mac OS X 10_14_5) AppleWebKit/537.36 (KHTML, like Gecko) Chrome/91.0.4472.164 Safari/537.36'}\n",
        "# Urls\n",
        "TIKI                = 'https://tiki.vn'\n",
        "MAIN_CATEGORIES = [\n",
        "    {'Name': 'Điện Thoại - Máy Tính Bảng',\n",
        "     'URL': 'https://tiki.vn/dien-thoai-may-tinh-bang/c1789?src=c.1789.hamburger_menu_fly_out_banner'},\n",
        "\n",
        "    {'Name': 'Điện Tử - Điện Lạnh',\n",
        "     'URL': 'https://tiki.vn/tivi-thiet-bi-nghe-nhin/c4221?src=c.4221.hamburger_menu_fly_out_banner'},\n",
        "\n",
        "    {'Name': 'Phụ Kiện - Thiết Bị Số', \n",
        "     'URL': 'https://tiki.vn/thiet-bi-kts-phu-kien-so/c1815?src=c.1815.hamburger_menu_fly_out_banner'},\n",
        "\n",
        "    {'Name': 'Laptop - Thiết bị IT', \n",
        "     'URL': 'https://tiki.vn/laptop-may-vi-tinh/c1846?src=c.1846.hamburger_menu_fly_out_banner'},\n",
        "\n",
        "    {'Name': 'Máy Ảnh - Quay Phim', \n",
        "     'URL': 'https://tiki.vn/may-anh/c1801?src=c.1801.hamburger_menu_fly_out_banner'},\n",
        "\n",
        "    {'Name': 'Điện Gia Dụng', \n",
        "     'URL': 'https://tiki.vn/dien-gia-dung/c1882?src=c.1882.hamburger_menu_fly_out_banner'},\n",
        "\n",
        "    {'Name': 'Nhà Cửa Đời Sống', \n",
        "     'URL': 'https://tiki.vn/nha-cua-doi-song/c1883?src=c.1883.hamburger_menu_fly_out_banner'},\n",
        "\n",
        "    {'Name': 'Hàng Tiêu Dùng - Thực Phẩm', \n",
        "     'URL': 'https://tiki.vn/bach-hoa-online/c4384?src=c.4384.hamburger_menu_fly_out_banner'},\n",
        "\n",
        "    {'Name': 'Đồ chơi, Mẹ & Bé', \n",
        "     'URL': 'https://tiki.vn/me-va-be/c2549?src=c.2549.hamburger_menu_fly_out_banner'},\n",
        "\n",
        "    {'Name': 'Làm Đẹp - Sức Khỏe', \n",
        "     'URL': 'https://tiki.vn/lam-dep-suc-khoe/c1520?src=c.1520.hamburger_menu_fly_out_banner'},\n",
        "\n",
        "    {'Name': 'Thể Thao - Dã Ngoại', \n",
        "     'URL': 'https://tiki.vn/the-thao/c1975?src=c.1975.hamburger_menu_fly_out_banner'},\n",
        "\n",
        "    {'Name': 'Xe Máy, Ô tô, Xe Đạp', \n",
        "     'URL': 'https://tiki.vn/o-to-xe-may-xe-dap/c8594?src=c.8594.hamburger_menu_fly_out_banner'},\n",
        "\n",
        "    {'Name': 'Hàng quốc tế', \n",
        "     'URL': 'https://tiki.vn/hang-quoc-te/c17166?src=c.17166.hamburger_menu_fly_out_banner'},\n",
        "\n",
        "    {'Name': 'Sách, VPP & Quà Tặng', \n",
        "     'URL': 'https://tiki.vn/nha-sach-tiki/c8322?src=c.8322.hamburger_menu_fly_out_banner'},\n",
        "\n",
        "    {'Name': 'Voucher - Dịch Vụ - Thẻ Cào', \n",
        "     'URL': 'https://tiki.vn/voucher-dich-vu/c11312?src=c.11312.hamburger_menu_fly_out_banner'}\n",
        "]\n",
        "\n",
        "# Global driver to use throughout the script\n",
        "DRIVER = None"
      ],
      "execution_count": null,
      "outputs": []
    },
    {
      "cell_type": "markdown",
      "metadata": {
        "id": "0eN3zAMuXMh3"
      },
      "source": [
        "#Function to Start and Close Driver"
      ]
    },
    {
      "cell_type": "code",
      "metadata": {
        "id": "taSb4oreXL6l"
      },
      "source": [
        "# Function to (re)start driver\n",
        "def start_driver(force_restart=False):\n",
        "    global DRIVER\n",
        "    \n",
        "    if DRIVER is not None:\n",
        "        if force_restart:\n",
        "            DRIVER.close()\n",
        "        else:\n",
        "            raise RuntimeError('ERROR: cannot overwrite an active driver. Please close the driver before restarting.')\n",
        "    \n",
        "    # Setting up the driver\n",
        "    options = webdriver.ChromeOptions()\n",
        "    options.add_argument('-headless') # we don't want a chrome browser opens, so it will run in the background\n",
        "    options.add_argument('-no-sandbox')\n",
        "    options.add_argument('-disable-dev-shm-usage')\n",
        "\n",
        "    DRIVER = webdriver.Chrome('chromedriver',options=options)\n",
        "\n",
        "# Wrapper to close driver if its created\n",
        "def close_driver():\n",
        "    global DRIVER\n",
        "    if DRIVER is not None:\n",
        "        DRIVER.close()\n",
        "    DRIVER = None"
      ],
      "execution_count": null,
      "outputs": []
    },
    {
      "cell_type": "code",
      "metadata": {
        "id": "u7uPTB64Uvfk"
      },
      "source": [
        "close_driver()"
      ],
      "execution_count": null,
      "outputs": []
    },
    {
      "cell_type": "code",
      "metadata": {
        "id": "I62nDPwIUz_A"
      },
      "source": [
        "start_driver()"
      ],
      "execution_count": null,
      "outputs": []
    },
    {
      "cell_type": "code",
      "metadata": {
        "id": "9czItJLnU3hx"
      },
      "source": [
        "DRIVER.get(TIKI)"
      ],
      "execution_count": null,
      "outputs": []
    },
    {
      "cell_type": "code",
      "metadata": {
        "id": "HxG-b_-dU7Q0"
      },
      "source": [
        "# get links by product types\n",
        "data = []\n",
        "for item in MAIN_CATEGORIES:\n",
        "  url = (item.get('URL'))\n",
        "  data.append(url)"
      ],
      "execution_count": null,
      "outputs": []
    },
    {
      "cell_type": "markdown",
      "metadata": {
        "id": "TNQYhIUqXZZU"
      },
      "source": [
        "#Function to scrape info of all products from a Page URL"
      ]
    },
    {
      "cell_type": "code",
      "metadata": {
        "id": "KehTNJm0VOaZ"
      },
      "source": [
        "# creat function to get link of product\n",
        "products_all = DRIVER.find_elements_by_class_name('product-item')\n",
        "def get_link_product(page_url):\n",
        "  for product in products_all:\n",
        "    link_product = product.get_attribute('href')\n",
        "  return link_product"
      ],
      "execution_count": null,
      "outputs": []
    },
    {
      "cell_type": "code",
      "metadata": {
        "id": "Z8m0pGwjVSNr"
      },
      "source": [
        "# get price of product\n",
        "def get_price_product(page_url):\n",
        "  price_all = DRIVER.find_elements_by_class_name('price-discount__price')\n",
        "  for price in price_all:\n",
        "    price = price.text\n",
        "  return price"
      ],
      "execution_count": null,
      "outputs": []
    },
    {
      "cell_type": "code",
      "metadata": {
        "id": "NqpuDQ7UVrDS"
      },
      "source": [
        "# get name of product\n",
        "def get_name_product(page_url):\n",
        "  name_all = DRIVER.find_elements_by_class_name('name') # name_element is a list\n",
        "  for name in name_all:\n",
        "    name = name.find_element_by_tag_name('span').text \n",
        "\n",
        "  return name\n"
      ],
      "execution_count": null,
      "outputs": []
    },
    {
      "cell_type": "code",
      "metadata": {
        "id": "LZmYZ94cV0xJ"
      },
      "source": [
        "\n",
        "\n",
        "# get image of product\n",
        "def get_img_product(page_url):\n",
        "  thumbnail_all = DRIVER.find_elements_by_class_name('thumbnail')\n",
        "  for thumbnail in thumbnail_all:\n",
        "    image = ''\n",
        "    try:\n",
        "      temp = thumbnail.find_elements_by_tag_name('img')\n",
        "      tmp = temp[1]\n",
        "      img = tmp.get_attribute('src')\n",
        "    except Exception as e:\n",
        "      return ('Cannot find any image')\n",
        "\n",
        "  return image"
      ],
      "execution_count": null,
      "outputs": []
    },
    {
      "cell_type": "code",
      "metadata": {
        "id": "-00un6opKyNH"
      },
      "source": [
        "# Function to scrape all products from a page\n",
        "def get_product_info_from_page(page_url):\n",
        "    \"\"\" Extract info from all products of a specfic page_url on Tiki website\n",
        "        Args:\n",
        "            page_url: (string) url of the page to scrape\n",
        "        Returns:\n",
        "            data: list of dictionary of products info. If no products shown, return empty list.\n",
        "    \"\"\"\n",
        "    global DRIVER\n",
        "\n",
        "    data = []\n",
        "    DRIVER.get(page_url) # Use the driver to get info from the product page\n",
        "    time.sleep(5) ## Must have the sleep function\n",
        "\n",
        "    products_all = DRIVER.find_elements_by_class_name('product-item')\n",
        "    print(f'Found {len(products_all)} products')\n",
        "    \n",
        "    price_all = DRIVER.find_elements_by_class_name('price-discount__price')\n",
        "    name_all = DRIVER.find_elements_by_class_name('name')\n",
        "    thumbnail_all = DRIVER.find_elements_by_class_name('thumbnail')\n",
        "    \n",
        "    for product in products_all:\n",
        "      #Look through the product and get the data\n",
        "      # YOUR CODE HERE\n",
        "      name = get_name_product(page_url)\n",
        "      price = get_price_product(page_url)\n",
        "      product_url = get_link_product(page_url)\n",
        "      image = get_img_product(page_url)\n",
        "\n",
        "      temp = [name, price, product_url, image]\n",
        "      data.append(temp)\n",
        "\n",
        "    return data"
      ],
      "execution_count": null,
      "outputs": []
    },
    {
      "cell_type": "markdown",
      "metadata": {
        "id": "9ur0CQW0XRcI"
      },
      "source": [
        "#Function to get info from one product"
      ]
    },
    {
      "cell_type": "code",
      "metadata": {
        "id": "a3lx4DNUXQhN"
      },
      "source": [
        "#################\n",
        "### FUNCTIONS ###\n",
        "#################\n",
        "\n",
        "\n",
        "# Function to extract product info from the product\n",
        "def get_product_info_single(product_item):\n",
        "    d = {'name':'',\n",
        "         'price':'',\n",
        "         'product_url':'',\n",
        "         'image':''}\n",
        "\n",
        "    # name get name through find_element_by_class_name\n",
        "    try:\n",
        "        d['name'] = DRIVER.find_elements_by_class_name('name')\n",
        "    except NoSuchElementException:\n",
        "        pass\n",
        "\n",
        "    # get price find_element_by_class_name\n",
        "    try:\n",
        "        d['price'] = DRIVER.find_elements_by_class_name('price-discount__price')\n",
        "    except NoSuchElementException:\n",
        "        d['price'] = -1\n",
        "    \n",
        "    # get link from .get_attribute()\n",
        "    try:\n",
        "        product_link     = product.get_attribute('href')\n",
        "        d['product_url'] = #YOUR CODE HERE CLEAN LINK WITH STRING MANUPULATION\n",
        "    except NoSuchElementException:\n",
        "        pass\n",
        "    \n",
        "    # get thumbnail by class_name and Tag name and get_attribute()\n",
        "    try:\n",
        "        thumbnail = #YOUR CODE HERE\n",
        "        d['image'] = #YOUR CODE HERE\n",
        "    except NoSuchElementException:\n",
        "        pass\n",
        "    \n",
        "    return d\n"
      ],
      "execution_count": null,
      "outputs": []
    },
    {
      "cell_type": "code",
      "metadata": {
        "colab": {
          "base_uri": "https://localhost:8080/"
        },
        "id": "M4VOxvj7K6IY",
        "outputId": "fd6669b8-346a-4394-dc64-4b6e955a60cc"
      },
      "source": [
        "######################\n",
        "### START SCRAPING ###\n",
        "######################\n",
        "\n",
        "num_max_page = 2\n",
        "main_cat_url = MAIN_CATEGORIES[-1]['URL']\n",
        "\n",
        "start_driver(force_restart=True)\n",
        "\n",
        "#CODE TO GET DATA\n",
        "\n",
        "close_driver()\n",
        "\n",
        "#SAVE DATA TO CSV FILE\n",
        "df = pd.DataFrame(data=prod_data, columns=prod_data[0].keys())\n",
        "df.to_csv('tiki_products.csv')\n"
      ],
      "execution_count": null,
      "outputs": [
        {
          "output_type": "stream",
          "text": [
            "Found 64 products\n",
            "[{'name': 'AdSách Nói: Cà phê cùng Tony', 'price': '10.000 ₫', 'product_url': 'https://tiki.vnhttps://tka.tiki.vn/pixel?data=djAwMcC4akKaiUoHMy4XuWhY57qpr06i_RDiPC7ejP9EONcDmxcK7XAACJjEl0g1E8FucvDAMz8aY8uZGLA1cvTox5fFXq6FgeWAtSLM9Z53xrlMsViiMi77hm2pRe_ceyXkSoTaiphKmRtsw9573Bs4Yq2vwBKTrKvSJt7u-0tZ-Moe4KY2ylMJ-Wi7H_5OBAifp7lt4bJ6z0A-1QnLvNh4aMJ69eatEgkFM0KyjfSMParn600-M8sQ-sIbgvgOQQzUZT-9sBQUKOcTuJJCVBIYhf9KY3USwjzuGUsw579MmXSIVobC81uMUlYxWyuieKK7cbYSe5QTOt_XauYx03cFvd8TKLkj10zo1vqYJiFasknlYENzvQdvSwBIInOGnw4IxQg7NiNRbpi2pACvRA34ZOBAxm00g4LR-n1xG78CfhI7EReMb6ZCo7lfnC0GgMJ4szbJSbqz45-jE9c1NgUtU3CZqIznuBgToiftFr2pXuEtvNddvK0qSMuVxFzwhC--ystH2wUNNi1l-_A1kEY7mIfi4bbpuVEwRJEgijwkHaM_C2S0N67eo0L21Ay1J13NTNV6Ze-4-K4CIoW24M5ra3sKdWuGADNxKDnObXPAiGe1aq7-Atybhv61H3TS4ythFWzAW0mrj45OJxmpIkFjMooMVM3E7HM_hkWXXdEiDVoAaf37Ro3m0NM4hXerddwgN_OEhcUkNrtTGEhkv7LHAIGyfzsyuVAluxkzQovTITn3C5tu_fM0J1BRzMivTcDFH73Kvjqm_2HV6KCBcxQE7hyZyyEDDMHTGLUKbRBgQkZDIqLaIirG5yxdx3eFHByU9AgM4e5_3WC7ZKiPonpl9bnYlwBYM41a2qxjtk1p8oRaDZWa9X0K3wPIgkrG-HoALOTbqzd7mxi3O6vPykOicLD10JwyDn4qeRa5SOZwIFhts5xBBDW-D6eYJ9u2ffJFxqh5kOJ1bOpNkhuVk1JpEjPJXwF1coByNEaumykPhcIFbbnDHp8ORXs-kJqokLigGbhW-JZ5tkJYDbk51isxrO9GA1sjtcJ25QK3H_pmb8Hh8kzqzAlWNRtDDoyU4CbNTj7RFpJnz5kllkXfAY3ZEjdyW2TqGE6CrB-eds05FBc3jEE9bQ&CLICK&reqid=QniiJLuqRl&pos=1&redirect=https%3A%2F%2Ftiki.vn%2Fsach-noi-ca-phe-cung-tony-p112563601.html', 'image': 'https://salt.tikicdn.com/cache/280x280/ts/product/b0/f5/b0/b808124d5a3e163c3e0c5efbe0d4a3fd.JPG'}, {'name': 'Phiếu Quà Tặng Tiki 50.000đ', 'price': '50.000 ₫', 'product_url': 'https://tiki.vnhttps://tiki.vn/phieu-qua-tang-tiki-50-000d-p1559411.html', 'image': 'https://salt.tikicdn.com/ts/upload/dc/0d/49/3251737db2de83b74eba8a9ad6d03338.png'}, {'name': 'Phiếu Quà Tặng Tiki 100.000đ', 'price': '100.000 ₫', 'product_url': 'https://tiki.vnhttps://tiki.vn/phieu-qua-tang-tiki-100-000d-p1559415.html', 'image': 'https://salt.tikicdn.com/ts/upload/dc/0d/49/3251737db2de83b74eba8a9ad6d03338.png'}, {'name': '', 'price': '', 'product_url': 'https://tiki.vnhttps://tiki.vn/phieu-qua-tang-tiki-30-000d-p10605502.html', 'image': 'https://salt.tikicdn.com/ts/upload/dc/0d/49/3251737db2de83b74eba8a9ad6d03338.png'}, {'name': 'AdSinh Trắc Vân Tay Gen Talents – Combo 25 Bài Báo Cáo Đầy Đủ 4 Module', 'price': '26.000.000 ₫', 'product_url': 'https://tiki.vnhttps://tka.tiki.vn/pixel?data=djAwMeUDHyiNo3W5-_kQz742RBGD3uYlLfNEdAiUV_3acb9LZpSPPdpf-pW1ouoxeSGf95BHIjYMDISEhiRrcrmUbyhkvb7lylcZB6aJ6DK7ZafgsS-uPpedQaYY6Dj-HylVijhi1kFzAF_STDxGoqYJIG5Vt9G-3i9NLWq6NgNnc2y2H9_6KP_rzi2cwg8hsD4JpR75njJCIfZAKlTT_mcIUgNiOkVDjnUl1KRvdcSM8SlCxIZe76Z70EZ0v4x0rM3hGEgH0TgWgtXtw3kX8-SS-X-OL1WbHYrkKUxs27BsstarH0dHtreOrJyC8w-pZBEaSqfTfpGLyFJLir3-n6n6myDWQotCNUHWBSFeDc__J58nK4Fle7AoSwjK2NcakdmlEHngaXsbAaQIM27gNb0gXXg2lVm-1SZUuZy0StjSjC2RiKTQARL1kGw40Ks3CTZYFrOgCY5aPYYrWb94mSohHtfKgHwU-qhed41hhnN81RyqssneEKuAUmJT7Yv4HTCw0achHqC9MtTjaEsuXbwjIqLH1wXQC67Up6B9W8_uTKqn7jFIixboiYZo2XSSSRZGp-4sX5PxNZA5YUMDfQRqcsUEPxPY2zyPGzwwttap2NGLatTsPCixqPCE8xeYBdRNrw9DVIGiindj_WcG8A-_O-fP8Kx94zDsoJlSNU46zKnb1VS6AsjIcB6elb23HPLuo5OQJT4QEehu0MucBD7o9YjFNl_0y292YhDIXrkLyQtEH49zls5D3BNjqm4HyDDYLs3H14a8IAfyanz-rXaIVhCG_oSZg4G5LsyS3zJP-8fOfcOxkfiQ1FG5EF6150ClonCqkM3BrFYOa9uisPKsHtdzaAuUJbPtrHDwCC0fFRFldMKUEMPLNgYtqWAddQEO9keU2ZwsU7uBeFtsyLfXeYZCYVWR0hj99tmlJXXcI-kE393xpzExBJev1lDTuJVN1mUlSWdmp64FtqM-cMMDZuEdmLF72nX6I_EsSzpSKPzypaeFpehwyllk-9HhZd-2mFxRRZBTPqLpPgf3CSQtkdlhBWHx2vz4MR6pRcmhVsA6_kxNuiSRDYTFTurNaeqAjc-hzebr2FbPJ7Nu5zClPhgcYWBRIpOs1V03MOcK7xA3zT4tDvONmxKS&CLICK&reqid=QniiJLuqRl&pos=5&redirect=https%3A%2F%2Ftiki.vn%2Fsinh-trac-van-tay-gen-talents-combo-25-bai-bao-cao-day-du-4-module-p110595698.html%3Fspid%3D110595699', 'image': 'https://salt.tikicdn.com/cache/280x280/ts/product/86/b0/eb/63bd25b4026bc0a04940714589d848f7.png'}, {'name': 'Ngân Sách Tiki Ads Dành Cho Nhà Bán 500.000 đ', 'price': '500.000 ₫', 'product_url': 'https://tiki.vnhttps://tiki.vn/ngan-sach-tiki-ads-danh-cho-nha-ban-500-000-d-p50781600.html', 'image': 'https://salt.tikicdn.com/cache/280x280/ts/product/ed/cf/87/a480c2dac7d5f78ae2590406c8d7660e.jpg'}, {'name': 'Ngân sách Tiki Ads dành cho Nhà Bán 100.000 đ', 'price': '100.000 ₫', 'product_url': 'https://tiki.vnhttps://tiki.vn/ngan-sach-tiki-ads-danh-cho-nha-ban-100-000-d-p59407463.html', 'image': 'https://salt.tikicdn.com/cache/280x280/ts/product/60/1e/c3/1b19cf759033ed60bdd8c9586906fec5.jpg'}, {'name': '', 'price': '', 'product_url': 'https://tiki.vnhttps://tiki.vn/phieu-qua-tang-tiki-500-000d-p1559585.html', 'image': 'https://salt.tikicdn.com/ts/upload/dc/0d/49/3251737db2de83b74eba8a9ad6d03338.png'}, {'name': 'AdSách Nói: Muôn Kiếp Nhân Sinh', 'price': '20.000 ₫', 'product_url': 'https://tiki.vnhttps://tka.tiki.vn/pixel?data=djAwMarThPTGoy5ohI8BRQVH5__t9Za1hbKYbvb4p123KNSg6HV7bVSTnUERIOroLDUv6io_q0pbwGSkAaYSkVgg5yuE2_SYVl7lzpqW9N5-qoWgS5jhe42ec3LdNl3P9RzbL3WDLT57zr0q1wvpuqlW3oGRCNGoNxbYSZEu8wMwoW1bG0WMaH9O6JFLj2ocqyGAA3XTqaCcEPjLkIwMXZXgI4K7bFUsafSyIWHHDpRRN3lRjaAWy0k26B1RBrNus8vXPKGHtmsU-VQxCQ2RzRFOIi7BbXp9pxjGnMKkzsWbH3eur-x25EZ0GKPDq-CbxYW0RrlrsS46XHmOTljnhE0_Y6Or6RSDLa6XPoBYTdCCtTGTYbMPf_3CWgobrx3hHX1c1HriDzqn7vHkVhlQx1fEtByg-lPqka9TZT8rQbugCx4Cb1_ngiyOSn-GzE_QZa-7E-B99MaWxLzzOAZlAR89yd-u6XVk6ICBx0d2_FN3rj-LYXUcugu2lJ3Cf-aSupv1UFcQwevc3g0xhpth-tbBVUFK31tMJvTyzuDIO-RK68vq3C36KEnhXttJoW4rGekCw3Np9ar3tjtZz0e3FE9XZspe1-rgtX-rb8IkYXboVDINwg1EcUvyCyp1uV8pHY8aZnXA_tXIeb455qoYs7D7jJ3_Di-1BTtWeXRmjvB5LLw9XRPCZIGWKwduAr2sacjTYmv7-b2neAZaGnGmK9zoGzOnRnlNJf5OfkDU29OsO2f15DMd2QcQwVXXwVcwGAjkcJw4fLU2xo9iCWpr6d8sDJxvENN6FO8Nm-WvdKeVBqCGTQNjsCf8PMC3DqBnEo3p58lGYTnr0HuXZkqxo2Y1Mxfieepycb1YIf-_gNXCU9DXZOsrOgKAWAzwpsa7Mohju6Tapvrs2W88I6bEkFz9mOYV7hY5DuL0kiAWnS5_AiUq7CPTPktsUQQOLtml6hWfKgNe3cRcfH-61fMV37_NWDKsfUu8nyUBCHPMjJJqRzFD2n1T2L_KqBvEmxRqytFZS00XB_xFVO_pF8Bxt6Pk9krKHsBxQcvuigEoP3_WyGkq70mGADu4xA5ZU4ygSt-QbBoOxWk6sfgsbGkkLAITSsyINlUoCU-BICQFmmlMbfHCrbKn3Zmd&CLICK&reqid=QniiJLuqRl&pos=9&redirect=https%3A%2F%2Ftiki.vn%2Fsach-noi-muon-kiep-nhan-sinh-p113837649.html%3Fspid%3D113837650', 'image': 'https://salt.tikicdn.com/cache/280x280/ts/product/e5/e0/76/bfaf8c851ebcb8945582a255dc0d56a4.jpg'}, {'name': 'Phiếu Quà Tặng Tiki 200.000đ', 'price': '200.000 ₫', 'product_url': 'https://tiki.vnhttps://tiki.vn/phieu-qua-tang-tiki-200-000d-p1559581.html', 'image': 'https://salt.tikicdn.com/ts/upload/dc/0d/49/3251737db2de83b74eba8a9ad6d03338.png'}, {'name': 'Phiếu Quà Tặng Tiki 300.000đ', 'price': '300.000 ₫', 'product_url': 'https://tiki.vnhttps://tiki.vn/phieu-qua-tang-tiki-300-000d-p7321979.html', 'image': 'https://salt.tikicdn.com/ts/upload/dc/0d/49/3251737db2de83b74eba8a9ad6d03338.png'}, {'name': '', 'price': '', 'product_url': 'https://tiki.vnhttps://tiki.vn/phieu-qua-tang-tiki-1-000-000d-p1559589.html', 'image': 'https://salt.tikicdn.com/ts/upload/dc/0d/49/3251737db2de83b74eba8a9ad6d03338.png'}, {'name': 'AdSinh Trắc Vân Tay Gen Talents - Bài báo cáo đầy đủ 4 module', 'price': '3.850.000 ₫', 'product_url': 'https://tiki.vnhttps://tka.tiki.vn/pixel?data=djAwMRqgou3O4AYulzCiiEtWqgvB4Qs3OeWzQYEtH2sdHvUDkMwFPiRN1hbbosaKL3EYr9Dlp5QIln4PEmzioAFVHXCrDldIqm3tStJ96BJrkrXbEwjWNmHMlOE1fkMZSgPPXB3DPtZapq0N150HXCsYHH8tmibvWTslVdS4o4Ips3v1ooRI9apVbdofGx6xGbLNkImfRJdudLCuOOxAqIR9or04xTL-eDUU-ugOThKJcO5fR9KFB0jd6ep6QolHbGhPIbJm1902ODO1nT0Bm9o2mgztwcrEU7gKmK6r1UFJoGztr5Jd6352Z-NGsQmH2E3OD7-tsRsGaQdxkccLA073qX4LmaJO-oTTTrgkcTbBD2h1vjRu0ViZDp_uz_nadPZxj7kOi2p7WCwQdE7oDajKBhIpbBSCCi1cDy_9vGXqBI1rRCEloiizg7y5fg9Eo3yfJQUckNup6a1jY0mFQ168kkQgtWGWh3Rsfs36eJ8G3CZLxaRd6NYsK8zLkVl71bGzsqbpQc3PKDbmoMsugqIXyZOc4B-T6wy1b8e2o-vkJYfmnNxL6C3r1iN-vvI3LG7WgjqpytAcslZalNdVSlBeGbEMaxuK8GVdUa5huO5oTBBRtj7m9j-MGv4Kc7p_BkqI4gQLxipe_98VleohfVnFvBow5pjRL50ELRW0BhZdjQlKxma8zc1g1otSn7BT_fQhGjC4Iz3cebVt2rFx3hPBUIuYgk7_uty4SmElReM6w5Jo2zkW5IQE8XJ8H-ysTB5YkFe4DWU1qYO5AXLCsPbK2ZJUmZiVTpb1aQmO73tpXYbBpU4ofgxza7lNupnpsFxTu4XYOnE1qoVKY8ROTHSnbB8ulR1aZ4wUYWCFRlpvXJBqII-xgSga-FKYdw3axVzQ0vcNDs5ucfk1qEJG88w5Wvm4ZpCmIKwK_UcEbA_4Dk2MeCQx_hQe1NTPT0X74L_quGQ3kS4dwjK9mBDhEzv4GUmbLvqr4w4LO_pgxTNhMa6DBUf2713k7FLcWpGNzY3mnTRMgx9TDHCkzIgHuSp_dHnRgh9OBG2h_brpxqWwjx_Vj9CG7KmGXULSmASFmfYh7jIzUEffwE4DCusREZmFumC37mWMAUi3wXpcpR_dhzB8GdO-&CLICK&reqid=QniiJLuqRl&pos=13&redirect=https%3A%2F%2Ftiki.vn%2Fsinh-trac-van-tay-gen-talents-bai-bao-cao-day-du-4-module-p99336173.html%3Fspid%3D99336174', 'image': 'https://salt.tikicdn.com/cache/280x280/ts/product/bc/6d/ba/8a45663620414cf7d81967e38ac42674.png'}, {'name': 'Ngân sách Tiki Ads dành cho Nhà Bán 3.000.000 đ', 'price': '3.000.000 ₫', 'product_url': 'https://tiki.vnhttps://tiki.vn/ngan-sach-tiki-ads-danh-cho-nha-ban-3-000-000-d-p33544472.html', 'image': 'https://salt.tikicdn.com/cache/280x280/ts/product/d7/d1/72/7a6e0f08167e1c39c11bc6bb60b89473.jpg'}, {'name': 'Vé điện tử vào cổng tiNiWorld toàn quốc hạng Plus TW100', 'price': '80.000 ₫', 'product_url': 'https://tiki.vnhttps://tiki.vn/ve-dien-tu-vao-cong-tiniworld-toan-quoc-hang-plus-tw100-p94882377.html', 'image': 'https://salt.tikicdn.com/ts/upload/dc/0d/49/3251737db2de83b74eba8a9ad6d03338.png'}, {'name': '', 'price': '', 'product_url': 'https://tiki.vnhttps://tiki.vn/ngan-sach-tiki-ads-danh-cho-nha-ban-2-000-000d-p51923666.html', 'image': 'https://salt.tikicdn.com/cache/280x280/ts/product/6f/3a/54/8c82fe6c93d1867ad0376b7e6520a44c.jpg'}, {'name': 'AdKhóa học Được việc - Được việc hơn, ít stress hơn - Agilearn', 'price': '629.000 ₫', 'product_url': 'https://tiki.vnhttps://tka.tiki.vn/pixel?data=djAwMe6ucanyx82ODwfYAH3Kvw7yQrm2NZ74qvJp8pBHXAYLo3DqP7CDUTpIudtuUDQK1rCoP1Kluc_1vpl0iEQ1b7zPV7eJw92cm6Vbc1VzAQsqgwf2NCq5HZYVziTxpJ-nd5JoJx75QjQZx8jvA4x9r_Ub2i_hm19Sqtc7coTSGgwzaMOH1xnHRa-S1x5eiwef8LrDVPCokLrTNuus4KKYE6_JhGzimQBX8vdA0a_llXh39zOrc6FUtBnUp7cys2t_rsJ1KfzG6qWB7L5NGfPSGUQrl5b3OSM7XyXU2MZ77JP8gxpxb0tcuZYe52Apsd1I4tbYlswDmKBZJdPMb4blToDR42FXcSVfadyMUjfHfz88jhH-Tymffoa2EH5_k_PbeORP6letfL8LT-cul1YW_gxGQPKkL0FAsy2o6wqFHmFsf2mlwiIGfQbaaHxAtUBJAVuO3xhfiWEqwOwoJsA1qzs4qFkPDKXa2OtFtsTWHap8Ipo-GUFUt4r_gmm9TcO--ka2nsNWpJKK2cah88h-P1cGRpwclf-EypPiAlwm06q0D-viy1CqiOwSeRjRV2DRvuY9687ka_Tevlb9aqpU5PpAmR6IR8humINKRHwypKRwo9CCjA-2x5-3f4e9KHU5NlruWMZX_6A1-HrqMDCumGfyzbEQbGosMEuZmfXEP3UjT2iEUnUtjPb865_Ezk7eBwxSp6Ps1tGfU9ITSoW5XSm-O6puDL824lyGeYX4PkwUQ_uIvBYyqrbSv_2l371zjUzZwAV4XBwj1YjIfq6oTwS3NwFjaeVFqIPBMI_ZZKvp51Qcxcr0K7XhWlXUqRW93PK3zSLmFd6UAa3cZSOrQ1jor0RywlyFqQXtRCi-jzy2IPDFfXnbo2o5vhuxZgD-2HsMJRQOs71jZJK0HoJrSVY51usfSU4RUpF6vVoo8ZXwRDyUG-WjQI4pQzkwa10fav3E1UWItBNrHXsEI22C5AmjqMIk3nf8_yE10U9s2KrHiybDlg7wixPfJiLiZZBSeErwS4vpdj49QcnAr7MNBq-VoOrKB0W144_WzX_qGwP7zdXRw4khCCvCOjai5kD-F5ub0cWyIzmInYXZFwViGSU895TId9nYfddfPttQpXKs7-mrPPGEvVw&CLICK&reqid=QniiJLuqRl&pos=17&redirect=https%3A%2F%2Ftiki.vn%2Fkhoa-hoc-duoc-viec-duoc-viec-hon-it-stress-hon-agilearn-p106589052.html%3Fspid%3D106589054', 'image': 'https://salt.tikicdn.com/cache/280x280/ts/product/d2/66/a2/181594f083b9f0cb8b8308e6857f5e1d.jpg'}, {'name': 'Ngân sách Tiki Ads dành cho Nhà Bán 5.000.000 đ', 'price': '5.000.000 ₫', 'product_url': 'https://tiki.vnhttps://tiki.vn/ngan-sach-tiki-ads-danh-cho-nha-ban-5-000-000-d-p33544475.html', 'image': 'https://salt.tikicdn.com/cache/280x280/ts/product/9e/50/27/08d1cc03f137ee96bbb900c5a69f4ec8.jpg'}, {'name': '[E-Voucher] Bảo Hiểm Bắt Buộc Trách Nhiệm Dân Sự EZIN- Xe Mô Tô 2 Bánh Trên 50cc - Gói 12 Tháng', 'price': '66.000 ₫', 'product_url': 'https://tiki.vnhttps://tiki.vn/e-voucher-bao-hiem-bat-buoc-trach-nhiem-dan-su-ezin-xe-mo-to-2-banh-tren-50cc-goi-12-thang-p90741011.html', 'image': 'https://salt.tikicdn.com/cache/280x280/ts/product/49/1b/1e/55fc661965a46780c600a2dd5514c98c.jpg'}, {'name': '', 'price': '', 'product_url': 'https://tiki.vnhttps://tiki.vn/phieu-qua-tang-tiki-3-000-000d-p2648565.html', 'image': 'https://salt.tikicdn.com/ts/upload/dc/0d/49/3251737db2de83b74eba8a9ad6d03338.png'}, {'name': 'AdSinh Trắc Vân Tay Gen Talents - Module Xu Hướng Năng Lực Bẩm Sinh', 'price': '1.870.000 ₫', 'product_url': 'https://tiki.vnhttps://tka.tiki.vn/pixel?data=djAwMdLUrmirflIWDDMIWdR5PtYfcA7xy2KzYY8GeVwDjAkFxH2OZcQX_-_O0J5-6b4aYs1-ggi1RWaxcN8MgDhxroW9-Osgy6fXuLPbKKuk4bzDhz59SFVqg2vCJ55DP0eVxvJoKy4px9BXWgmvzYMtRiZqvJjb0zuz3KP0UvfKDlDuzFeT4fShhA05MiOL0Uz24ql7f4WRhV_iU33p28rGrEdJroEfnzBIHSZUQM1SnCToHGbObUhoCbHZ0zXt5jnT3oaVQRGfjvDb2emjlMmUkgnQ5fzfd1c5TboPIKnQGE4aZnbbnc9-qdt2-594CrplGfuR1fOfoC4S8lgSnV_Izg5cFM6_jbuwUvG8Ni5RA4cF1KLnO93-1fyb708uOxiFwTqACCbd2yBqSagEL7wPp7kR3KOffk4bdmM8FTWndV7S0CXrfoCmKHTbyFoSX67H1Vhvb0t9Sgy1aFgnXVb4yFhkeDqS3ctHMf-0YvSXaITE7A-pjsQCeTSrGxMJiFTkaGuUDhoKq6r8aIAfgit9gPit8X_5htp08MbkLVSZdrf8nhr49t0FWbxOmV1j9LqLmGjeagdAmfS3atgu149q7iqmSjwPNqSY1ADDLeAufDYO4M36C6OWGS_MDKZdaDOi0k4glnw_cxF2pRWbuWW5bVDN8493T5vg3T3bHTuIBIwGKrMK9KLMXPQmKal-JWH12QTmB6fxDPnRv_5P0fOrCh--n-wZv34TyDo425jWJMIiD3nEcBD9TbLh6NGIo8kK23eNfaMoI5at0g2bjRsSkJOYkXrQhHVQbQ5CxIQ-a1g9h79yUgD77nQgacHbig4FHTwG_5jKGgT4zvfubhHCdJQjxNSoOced_EvkryUacvLaW9s3ufj7UD6pqtHujhuzlBzsSA9BHqL97f2wIRSE05BLRqWUThoJIEP6vZ116HTS65jp_LKmLEd-3cSg3SxEOhmIv-lw3agbgA8BbRMUmi80mqtq3KGwZYd2XwSGOCOswK9dm5EXuPfrQhrJNf4CmEMQ4chTPT73wmkpbWdiAW9ndkA8WxQ_ilzBccyz9uMk7h1Py3zwW17GVJiebYBMJCe_WSwUvKsNAf4qaTwx8CLS43xkaBxzIJUK8h8hFHka0MmXJZsQ4GIA&CLICK&reqid=QniiJLuqRl&pos=21&redirect=https%3A%2F%2Ftiki.vn%2Fsinh-trac-van-tay-gen-talents-module-xu-huong-nang-luc-bam-sinh-p104541837.html%3Fspid%3D104541838', 'image': 'https://salt.tikicdn.com/cache/280x280/ts/product/f5/2e/4e/28dde1c6adde4b9df9372706239c910b.PNG'}, {'name': 'Phiếu Quà Tặng Tiki 2.000.000đ', 'price': '2.000.000 ₫', 'product_url': 'https://tiki.vnhttps://tiki.vn/phieu-qua-tang-tiki-2-000-000d-p1559593.html', 'image': 'https://salt.tikicdn.com/ts/upload/dc/0d/49/3251737db2de83b74eba8a9ad6d03338.png'}, {'name': 'Ngân Sách Tiki Ads Dành Cho Nhà Bán 7.000.000', 'price': '7.000.000 ₫', 'product_url': 'https://tiki.vnhttps://tiki.vn/ngan-sach-tiki-ads-danh-cho-nha-ban-7-000-000-p109020346.html', 'image': 'https://salt.tikicdn.com/cache/280x280/ts/product/ee/32/81/79a320582467ef7bc497d539c89ce450.png'}, {'name': '', 'price': '', 'product_url': 'https://tiki.vnhttps://tiki.vn/gas-a-chau-e-voucher-giam-100-000d-p112562483.html', 'image': 'https://salt.tikicdn.com/cache/280x280/ts/product/09/94/26/3bec3c169ea4d56946e126a1866ab6a3.jpg'}, {'name': 'AdSách Nói: Bên Rặng Tuyết Sơn', 'price': '10.000 ₫', 'product_url': 'https://tiki.vnhttps://tka.tiki.vn/pixel?data=djAwMdTRYcxvc_NsuahOdnLphQw-VRg41pi7Iugx1euayD4fippZJ0dtz0GqQSfQO_km_CDmYkDTMXMiMy4aj9D1aD3PjMufnj7hwCtiMerFy1ETuzQvsj_Jt7lusqM5uuPJPSuLYGAujdzqM7M23Ac82kXz3y0OuoBSBL8QUeQWApYfcdJ4L95WtE0fHxkS4VxB02E2FtU2qmoLkSkK_UBpIYJMUBH_WprHj3BfN_ZgSNokJ-WR2tDXY7BO3wGLMtk5Dhg2Mwk-hMShKfxhgM87dYSvbAImw8-AtHyfZu6ped0eHcKkjcBqUfP2Z1uOUiujoCu2op-3QyXkWgRhqIEE5UhHxCu7NnPCr-r2Sz29wIQyFN2brJKyXzPwSaIZVqo8Lz2Meptc0EcCskX7DWmeMh8YzpD4P-jJOpa-jLUOAnVLxnqHCjrcXqFPcMHF4IxWQ-uRe3F71cZHodA9nJbFyKoRNzruW_If5Q6zIYAP2ZOUscz5_lonje6anVJJLkITF7_ZYgfr0cE8QxMQ1LPzzhW6leuqbeD8sGwd1vKy7TlWmSqnD_C2VySO0drmUq6qz9laeiN45yB2P9RgVGxYy-r67X2tT30M5I7JF5G6dbNPdALSqZVlpo2AixPW9xbbTwOsF-gC3nEVVDC6ATvr0JZomX6iB-4AOBRzgXx2lzq0iUFiaUrUNMDBIU90NnGoeQzRYrMKD0sddeQtN-qRfn6QoU-wRlIqrJNlpWRQiSVFkdFVwTG6hrtg9_fHsq2P055BbPPLMAFjN7Q3w_sqhYBTJT6fy-e0qy572pLBB2XFw6MsbBE1yJ8AxKrkopIUjgXFAjqeyMOzrtVXbj0MBlVpm1qc0vHy3DCQNlgDOCG82YPxRxK2gpYXiFBIxU4E7PzraHUOfIumjIKelqWgHtgs3CQ9UmM5bcUsdCQFPMjKC82EZZ1gOhDUDEj9zUnCNN6ZYe5DnH-unjhqMGlKGmFYSONF33bjpPRdJkMczZW-T-BRYJPe5QmJ03kvzeTo8TU6BD4fT3jMgunh0xotHPEOZDgbJUyBDShp9mQgcRtFt4w1JmBdG-VLkuJVeGyHEtLv9hhyx7n0sElIW5G3A1JzA-vWOQ-dYdncyMnsD0J74Kw2qw&CLICK&reqid=QniiJLuqRl&pos=25&redirect=https%3A%2F%2Ftiki.vn%2Fsach-noi-ben-rang-tuyet-son-p113302211.html%3Fspid%3D113302212', 'image': 'https://salt.tikicdn.com/cache/280x280/ts/product/d1/6d/9d/6ee4bd78d71de78a28629e41f0505895.jpg'}, {'name': 'Gói Hội viên Ứng dụng sách nói Fonos: Gói 1 tháng', 'price': '99.000 ₫', 'product_url': 'https://tiki.vnhttps://tiki.vn/goi-hoi-vien-ung-dung-sach-noi-fonos-goi-1-thang-p80617753.html', 'image': 'https://salt.tikicdn.com/cache/280x280/ts/product/54/47/49/acb62d2bfce95f0ab22083262bcde5f0.png'}, {'name': 'Phát âm tiếng Anh chuẩn bản xứ cùng ELSA SPEAK - Gói học ELSA Pro không giới hạn', 'price': '1.945.000 ₫', 'product_url': 'https://tiki.vnhttps://tiki.vn/phat-am-tieng-anh-chuan-ban-xu-cung-elsa-speak-goi-hoc-elsa-pro-khong-gioi-han-p17929617.html', 'image': 'https://salt.tikicdn.com/cache/280x280/ts/product/e6/e4/72/97384e87663c12c002c419663b7ca69b.png'}, {'name': '', 'price': '', 'product_url': 'https://tiki.vnhttps://tiki.vn/ngan-sach-tiki-ads-danh-cho-nha-ban-10-000-000-d-p33544470.html', 'image': 'https://salt.tikicdn.com/cache/280x280/ts/product/25/8a/11/974e4178a19061cacf8f9f832d10eb60.jpg'}, {'name': 'AdSách Nói: Hành Trình Về Phương Đông', 'price': '10.000 ₫', 'product_url': 'https://tiki.vnhttps://tka.tiki.vn/pixel?data=djAwMcAcDEiElgDkg7hIpFO7Vlaw6Fyg2mz_Bp1aWRu_uZCKrPEaPxlTwls3kr0j6-9828Vx3UJnSZG4OD2xXZ_kixRhWAqzq14cTsXrdeeTXl1ZeQmmoW8tG-i2NCKPpVL_vOOcODY-MsKz3MEV4iqEL9UrGIDJMixTLQEz-oBaXmfYTb7g_3Z5UOhCQOB8HuHQTVk7JF8jyznpiedImhlOegJgYj0LRl3G7y_0fWz62Tm-duXThG-qfS-mp7gNvksqZE7YCU0-YRT0IqKung0YRZk1cO2HVMlAyiAvWucqbqDKW58s5kTDIyv4enbsfsFB1qt5bCFB7j7Xq69qxI9DlOjMeMBfg2ABp6nsqAwd04kD_Z3oCdBxCvuH5FB0STiwNCSLjykdYT7wlZWeRMpe5aWaMxWMCsiI-zhU8Fa2P-5MTnGZhOUfYajiim1KVMDuRiLhNDf20GVaENLhTo9XY5__Iy5sANs8CwBoDrqeAM5bG47VNn09I7PId6X77pNwklgNQ_kkJX3YkBmRnB2skhskR6EHPAHrEfU6H36l__yTc_HLySAu2MlIuX71-t9KqhiicsnjyX9VM2tLn2n9v1uhU8YwbR_F3yEOWj4PTNTnItoqu8326IGxUc8FBpIskF6nzSWsctstDJ8sZO4pSjy8_W7c81lxeqHFJfv7gxcf99fd-N_uKaH5hELbG_0VpMJQ3DGrfhJGHd1VdHS5kq2YUSu89pwMbfR4lir4FB1k5gDdFtx2rvVjERJCOdT-UO9_oGHW4nhWbE9SJCsfBl3IMSquf8I5VApGdRT9eItojnKKaBHBLFLqwI8oMFzjqWrQKzEBDf86cEirVSXmPQRagVgKuNPqQi4qrXkJMna1Ou0wWohlDTGuI9ECOKgL5H-IUEokNGQIXBfJ1wdHzFzYGBYuCor3A__xS1W1uwoF-bsVo-Ow7B5MBHdyPNCNdc8P5p2ARCFbCMMIs9XMywP48F-OqjoPvCyyuKR8Yr9zs09qy3rhK4tgVxGWA54ReJ8QTbeVzt2htW3CxTc8v3KeAhaYfpaKAYXp0ekB1V_vCQRu39mNm9IZvD3A1X6ueC490oqeEJLJGOe4AP4bmG08oibqarak3VhHpPV0pp0coQo1eX86&CLICK&reqid=QniiJLuqRl&pos=29&redirect=https%3A%2F%2Ftiki.vn%2Fsach-noi-hanh-trinh-ve-phuong-dong-p112694411.html%3Fspid%3D112694412', 'image': 'https://salt.tikicdn.com/cache/280x280/ts/product/46/10/b9/0d01c4b152d43aaf156ece92b2db300f.JPG'}, {'name': 'Phiếu Quà Tặng Tiki 5.000.000đ', 'price': '5.000.000 ₫', 'product_url': 'https://tiki.vnhttps://tiki.vn/phieu-qua-tang-tiki-5-000-000d-p1559601.html', 'image': 'https://salt.tikicdn.com/ts/upload/dc/0d/49/3251737db2de83b74eba8a9ad6d03338.png'}, {'name': 'Vé điện tử vào cổng tiNiWorld toàn quốc hạng cơ bản TW80', 'price': '60.000 ₫', 'product_url': 'https://tiki.vnhttps://tiki.vn/ve-dien-tu-vao-cong-tiniworld-toan-quoc-hang-co-ban-tw80-p94858578.html', 'image': 'https://salt.tikicdn.com/ts/upload/dc/0d/49/3251737db2de83b74eba8a9ad6d03338.png'}, {'name': '', 'price': '', 'product_url': 'https://tiki.vnhttps://tiki.vn/e-voucher-bao-hiem-bat-buoc-trach-nhiem-dan-su-ezin-xe-mo-to-2-banh-tren-50cc-goi-24-thang-p90742066.html', 'image': 'https://salt.tikicdn.com/cache/280x280/ts/product/ff/b6/32/730499c57294c9675e1e2462576a87bd.jpg'}, {'name': 'AdSách Nói: Minh Triết Trong Đời Sống', 'price': '20.000 ₫', 'product_url': 'https://tiki.vnhttps://tka.tiki.vn/pixel?data=djAwMSdhawZ0tPide-Iz_QKAGEMNE-vMXDGyp45iPNFuKBNTp3ZwMdWLypIli-6pJQZZDaQMXTktmoSPjrFuqJ4U_90GfYNhRy8kAQkan2nA3lYB8pZRs94tnk6zlS63vZEJzZDUZEBLtMWFyhAbOG57NCDVi51UVZu376RGaV58NLkirXTUZahGJUEENqTynbceqdbJj-KzCBLPIjfFQpj213zDwz8omQZgpoV3uZcJ0Um8RnAgmBUqH0KUbiSRKhAyEZ2iWkqHTC6z19JbXwgkNITYX10n6VcOhuVE8nLQDvFrSf2MjKYcT40Mi1qk3WYjohCWjuP21cO9jf-bi9N-AFKrueYodXR_zHBhpHx0F8icvUOaytfjqT_A0P6PNwYE0Mwt85Il4fCMr-NNzKF-VIeLFPzEKOG0zBVJxfDUDWT8_rjwLlYlgm2FaAFkXlddClP8sNAwoSym6LpP_D064oeIwzjtsupzzC3yLzsX7-s6EQ4OH5N814XKAKQBfDd9RJiIkzJFQyZ0SG5_e7y76_CdJsX1JdPc0Mlegw6J5kulW3nUozOagNCw09Zm1VEx_WBFxPMj-WQq3iJ6fcVevReOFJH2FEsueY64G7z6jdpIHuBF4cyhJGRWXGmT7djNijgUQfrnLtshwiikPpyMXTmSK3tSlpQpLHfoNzLI3_Ok6dkRPeNYnF9_q0kVBCFxDQOfkQjJ2k6eYil6l3OMrOBR9MtEBG51uOFxqg1CGN1tvFHOtMRi1WmGZHmfGTqdJhIgGe6-4u1zoT3syDM36jghLVvhLc3kNHRFny85nrWKaemCcK-TfYvA05LIKJel2dXduNKO2zre2IrF3CGqDnuU2wAwflzc8ib7kYjot_8x6c03vUwmWhJgPq9yhop0D5sEcQP5MJLpCwUGUPGERaiUPifJT7lyDRCESlD93ugkQUEDkCvs6mrTMLJB96usiwENYLSxgzLZykceXsMT5xHYCe9R9rM4XvrzArxs0zyRv_3EWJjpxhmBEPAEPIuIr1T-uf3g9V8_gcKkPQKGORSyVSl1HnDv94OLML0PkdoS4zp5gxsJqCrrMATJbeccmRlBW3XWmhmNV-5RyL1kz2WPyTxH42bx8XdIfXqQ4MgWttbxsLg&CLICK&reqid=QniiJLuqRl&pos=33&redirect=https%3A%2F%2Ftiki.vn%2Fsach-noi-minh-triet-trong-doi-song-p114820626.html%3Fspid%3D114820652', 'image': 'https://salt.tikicdn.com/cache/280x280/ts/product/76/0c/c9/bd723dd210e9fca8adad7bccd53fb3f6.jpg'}, {'name': 'Phiếu Quà Tặng Tiki 10.000.000đ', 'price': '10.000.000 ₫', 'product_url': 'https://tiki.vnhttps://tiki.vn/phieu-qua-tang-tiki-10-000-000d-p7322123.html', 'image': 'https://salt.tikicdn.com/ts/upload/dc/0d/49/3251737db2de83b74eba8a9ad6d03338.png'}, {'name': 'Phát âm tiếng Anh chuẩn bản xứ cùng ELSA SPEAK - Gói học ELSA Pro thời hạn 3 tháng', 'price': '309.000 ₫', 'product_url': 'https://tiki.vnhttps://tiki.vn/phat-am-tieng-anh-chuan-ban-xu-cung-elsa-speak-goi-hoc-elsa-pro-thoi-han-3-thang-p17474957.html', 'image': 'https://salt.tikicdn.com/cache/280x280/ts/product/e6/e4/72/52e586d4fb1197c3022d630bab359e43.png'}, {'name': '', 'price': '', 'product_url': 'https://tiki.vnhttps://tiki.vn/phan-mem-hoc-tieng-anh-monkey-stories-p76130647.html', 'image': 'https://salt.tikicdn.com/cache/280x280/ts/product/94/e3/c4/e898906abf4bd5575d8f0c964d6a388b.png'}, {'name': 'AdKHÓA HỌC TOPIK II ONLINE - THẦY TƯ - KỲ THI 10/2021', 'price': '5.600.000 ₫', 'product_url': 'https://tiki.vnhttps://tka.tiki.vn/pixel?data=djAwMffdm48k_MqCT-xuUUkwtH43dS_8znMVnb6iZ-iXNRjwHIShmxpz6mRYHGJTkTndy_SB0iwc_U__lv-w2i_WS07sBnvuSOmxYav7e2wI-kqFQ2Na-wvUKogYB-_mu6EcDYnGPaIyk7Xakad4T_CwgyrMmbtbrXKomq0ZiXnrFxMMLIrszcNq-CRdfI0FdS_zGIZi0EVILF39v4zXPh_hO2F35Iu0VZEvQ5IrMRb6PrWRVO0odccS3Dbm5gKbVUAJ9vTBLCcFVyFkCsAT_KzCoVtcD0VHHETJA_0PYpPF_nXSMachdFubVjOOJ0wk3w_gfGCjrKxSCTZtH8fV2KxAVKxNBc9jtqBN8Jb-YHSH25HAKvWoJnlIXKrJ-syxpwtsXFLs7kdc53ZK28k-BU8VrJGlpZ9hpQWUL9S8OWgtzXu0CRisfBZ44ksgAy4SE_xEDxxP1KAtnH0YJ0hSoBSNnfMaAw6LV-E00YeWJnGitac69Fyrrum0G4LZjT7WsdfYfIOy9nRy8hWzR3laXfT9D9b46EBZT8eQwLA7Hw9LQ6zl3ufeJawfxbOrS4-FjX1HbOOh9Ots2M-7a1T9j7OxSfiX1Wqb4EfYWVheDoaUus_9vL8LFoFEuRgnWfBPtSi8mCDicf3yJE1xQLnWNdeAOwXbKTt6fi9bjsDp0ibNJtB2UY_YnEZMJtiY6xUNC3SHzAfdwzapWuMgrcbHbwZxNzxI2jIo7rQYuYHdFzcRQzrAmHfcYTuPDlT-AilN7aOTAfi3pLiMWSfh_xIRax56pRKQD6XJjJTkbxJJBY91JE4zF77ENb5J9l-_0XbqUNWGIMJeglbQ040ikvT8JnYI20oFoYEwVYIlRWJOHSz-RjrjfjWNEWWgmIifCdx7XEG_XZmqSjf9_w3B36aHxTyThOYV8fA6TK5e2j2DPAW4HuX7BQFRRXqJYx3SFoQUDsXIiAaL9sOAerfBfFhaitFXIbMoj28_8buCIICRgGHFLO_xqJVzI9RKldhCUV6AOcVb4rNPMQ-wUZ06hOngmZ3ZEwo5fu_0OrFVF7dY-Fj3g7UlrKj-blXEhhCNkYe3JyiMVVSt8mvvIxqKAZ5D2dU0rMNy4R0JvYTSjA8M46Ewg7CsLD19N4slINJereM&CLICK&reqid=QniiJLuqRl&pos=37&redirect=https%3A%2F%2Ftiki.vn%2Fkhoa-hoc-topik-ii-online-thay-tu-ky-thi-10-2021-p107234703.html%3Fspid%3D107234704', 'image': 'https://salt.tikicdn.com/cache/280x280/ts/product/e2/bd/23/37a82c6362d9a5596a84d9dfd587934b.png'}, {'name': 'sản phẩm thử nghiệm', 'price': '1.000 ₫', 'product_url': 'https://tiki.vnhttps://tiki.vn/san-pham-thu-nghiem-p86022880.html', 'image': 'https://salt.tikicdn.com/cache/280x280/ts/product/db/09/e9/9cefed1b7caebdc08bea27dad02824fc.png'}, {'name': '[TẶNG SÁCH] Full chương trình đào tạo Siêu trí nhớ học đường từ lớp 1 đến lớp 12- Nguyễn Phùng Phong- Unica', 'price': '2.368.000 ₫', 'product_url': 'https://tiki.vnhttps://tiki.vn/tang-sach-full-chuong-trinh-dao-tao-sieu-tri-nho-hoc-duong-tu-lop-1-den-lop-12-nguyen-phung-phong-unica-p90519753.html', 'image': 'https://salt.tikicdn.com/cache/280x280/ts/product/53/6b/3e/7f488f9e62512a57ec9d54f6da6b90db.jpg'}, {'name': '', 'price': '', 'product_url': 'https://tiki.vnhttps://tiki.vn/pho-24-e-voucher-mua-1-tang-1-mua-1-combo-pho-dac-biet-to-lon-tang-1-pho-to-vua-p110709288.html', 'image': 'https://salt.tikicdn.com/cache/280x280/ts/product/71/a8/2c/1d6984017b40730db8c179e985d3bfd7.jpg'}, {'name': 'AdSách Nói: Hoa Sen Trên Tuyết', 'price': '20.000 ₫', 'product_url': 'https://tiki.vnhttps://tka.tiki.vn/pixel?data=djAwMTlO-vC1flOXDwLfr6KSq8Vjmav-kirXmA7XQ5MDDlEPvLMTr3feT8mveMmdtSZEHvMoh7a1d7fWgb0Ksw00iF43TzPZ_mPMeaTV8-qmVRVHaOBku1XoqZq_pcFx6Axaw70f0aixKLsHS7U-3h76Y3FxGRt4q28IaEJG-mGMJuJK7NpEykLHjZdD9mdcBmoOVIw1yPTWUSLJmcZGPPXglfkUZE3DTDlCF_qm-ssrBGG7YEb_dAHTD53NWEi1kH8NxN1EyZTBxGBnyxOd67uSuFMZFpkXWkUDv_fXxBV7SMqg-zgdSuyox4O4zAwy9DdLFORFOLcLPeRq97_MMJ2IKN3arhkKEjFKpVzyz3sxPGQKUr0rKGlIsreamE503dlaq31dNJX3iKB__rRHYe-D8foL3geXLatcfIyAKK2RUpyThZtHHtTgNwVJ8I5UhXW7ItMTRL3QcAHK_EHDNSEHL7Rzig7f1-5-hqsPDpR6Cz3_J1KVpm-dl10PAkTp9DBOHhJTX1tIqzHKfYObP1hrBjczEmWtF1DLAFantRWnNp84JTOeTNtl8D67FOQm67vZr5oMLLHc9t-j9AIXG-3pzSCUxQ2lNU7ZWp0sPRZVbaJorgFJ52fPVGE1ScSiWvn5bakCLzK9_Fsocpaw1ylTM6Hl-d1GhvLhce306vYkfx6QOfgcdjjdip2D024ZVJaNCwz5OtcYhp_rrzJ6jnvv5-qOTc90RaPQpw8Da8bllB1viCpvZGnKR0_60f0xdqSU4aKBjiAjFq1PTyctbKX9dx1WyGSIm7czup2MvJbhHIbZswcUyl_Ll5lw4cwJ1UJxb_iNT6ATN5Kqc8ZB3VyQN5imjlUYFe4rN3arFqnkw0TBgIME47JDiKOQpVjrS81fezJ_200pR8ofcpzzOMzi3-sgSPElPDBtsbR7O8Zc7iveKN4xm85jxi5liIOfwnaTl0pGqI7vjgR1gaeA4wDHAiVLj7CdSbKfRedei6rsn1TtErGR78dfBpt3jnEU89zXIuQ8om6bDEVJ781MDLronLx_mWV7uwShTMm_5oChi6XBdnrd2_WrbFBhPBsWjVoJyMlavwJC0kGB-IwBTHP-Hi6cy4LQwZrzrEqVlcs9DvI7io9AhoKiVg&CLICK&reqid=QniiJLuqRl&pos=41&redirect=https%3A%2F%2Ftiki.vn%2Fsach-noi-hoa-sen-tren-tuyet-p114035787.html', 'image': 'https://salt.tikicdn.com/cache/280x280/ts/product/b5/00/76/b11b5ebad76973ba40fedf8115a60bb8.JPG'}, {'name': 'Phát âm tiếng Anh chuẩn bản xứ cùng ELSA SPEAK - Gói học ELSA Pro thời hạn 1 năm', 'price': '629.000 ₫', 'product_url': 'https://tiki.vnhttps://tiki.vn/phat-am-tieng-anh-chuan-ban-xu-cung-elsa-speak-goi-hoc-elsa-pro-thoi-han-1-nam-p17929217.html', 'image': 'https://salt.tikicdn.com/cache/280x280/ts/product/e6/e4/72/f688fe63b4450cf43573c7bfb4f58221.png'}, {'name': 'KidsUP - Montessori online - Gói học 1 năm tặng 3 tháng', 'price': '490.000 ₫', 'product_url': 'https://tiki.vnhttps://tiki.vn/kidsup-montessori-online-goi-hoc-1-nam-tang-3-thang-p63038932.html', 'image': 'https://salt.tikicdn.com/cache/280x280/ts/product/b2/06/c2/a9f6c2a56292333261d51eb403abe800.png'}, {'name': '', 'price': '', 'product_url': 'https://tiki.vnhttps://tiki.vn/phieu-qua-tang-tiki-1-500-000d-p24376736.html', 'image': 'https://salt.tikicdn.com/ts/upload/dc/0d/49/3251737db2de83b74eba8a9ad6d03338.png'}, {'name': 'AdSinh Trắc Vân Tay Gen Talents – Module Nâng Cao Năng Lực Học Tập', 'price': '1.870.000 ₫', 'product_url': 'https://tiki.vnhttps://tka.tiki.vn/pixel?data=djAwMUTksA-wXJ51YtWmABzxu6iIiJfUXcBv8BgLQLalSxQVXAtEyaLnRrapmbgGkKgZkjg8M0efmxsgwpBxpl3rBuuoyJS7xoe2QhIpXT6qopejWvc_hS7jQFSrvAwT7aCWrKNl8mEOphIoapf3qG83-q3meJurK_mKQ4Dk5DQMc7u0NvQgKIaaSRDWlJRqZhOr89RAyW6myDF_Q45-MDx6iryxIwy4IEpa-05TM-EM1pFO7NZXM15qNISk_o6Hsp2ctsXJgxUrU_xo1vqHRDTIT5TXHnABNBpTCfU0f_hfvqNSNLHFxM9nFwoRzU3NL1Ig9Gzabj3v86w79G9kLXlfuiE34CZExbmzuw0PpoyRo4Yz8oSisOn23b11IsnkFGm3loupB080GCltq-SAo6Ysj1lqwGOJ-ykJs3d1KcteCb3BwXSpOYcA39qY6sGHu3hlXf-KcJ-WyqfDG6KqogZ8HCS16RLqkdEa-p2yiDnnp0G9zhatJXGtZUOv_c4_uvOymVWCkMwKDKipxYOFE5YNDevFvfvoZD4cLU4x7H2pMzxLiKz7GvFXnc4Uj3EnowaefWK5KSnLcIG1r6XilR5FHcJuuiClRawwi3BNcbk4bCpYuu2q9Yc5uz0lQa2lj8PlmyPzEn0SsECfqM5J4lrqMx7820kN7cWGnykCjdm6xWGIidnBUyPlK5z2UJgsY81pbN2z6FVOZEnmiRfB6LAd_aN72ybkDq4qQcNZAdJd4d-ndl4DWZsl53YGbvRqvf4OhTRJzYr8fsLQ5vNDwxnsB7HL7JLIMOohf8qKi4uufc9IfvvopdLvl8QHUIurlQPmhKYS8-1Dd9nwhAaF4mNux14VPH1DTC_oa9YhuQCOqJWbymut_2iQ66byeLodEURQYFzWfgmXEca3LSgMUmGc9UIl5qF5a7xH_LX0BIX9dBBJ4gX-h7Aod4U2GoiB03O53orzJ-hHsrNqQmg1Y1movZEgShSZwGKOkfjcNLrTepquxUBuen7sgrpj1AnAWW2TOSZwjEo86Jh0CfITXxLZRvQj2aFtVp74oVYDQb5oxFuea3A1urvR1xSxomBZ7T0dE50paN9XHqNutRiduC0Bvj7AzBgdEpCPHx8ghuxEj94ZYkhURQ&CLICK&reqid=QniiJLuqRl&pos=45&redirect=https%3A%2F%2Ftiki.vn%2Fsinh-trac-van-tay-gen-talents-module-nang-cao-nang-luc-hoc-tap-p104613657.html%3Fspid%3D104613658', 'image': 'https://salt.tikicdn.com/cache/280x280/ts/product/d3/a7/91/fe68c21e2ecc92b4966213ca617523a1.PNG'}, {'name': 'Phần mềm học tiếng Anh - Monkey junior', 'price': '669.000 ₫', 'product_url': 'https://tiki.vnhttps://tiki.vn/phan-mem-hoc-tieng-anh-monkey-junior-p76368908.html', 'image': 'https://salt.tikicdn.com/cache/280x280/ts/product/3f/4a/a0/142beb9c183b2965766b04e54d110bbf.jpg'}, {'name': 'Combo 3N2Đ VinOasis Phú Quốc Resort 5* + Vé Máy Bay, Miễn Phí VinWonders, Vinpearl Safari, Đưa Đón Sân Bay', 'price': '3.999.000 ₫', 'product_url': 'https://tiki.vnhttps://tiki.vn/combo-3n2d-vinoasis-phu-quoc-5-ve-may-bay-mien-phi-vinpearl-land-vinpearl-safari-dua-don-san-bay-p25075015.html', 'image': 'https://salt.tikicdn.com/cache/280x280/ts/product/77/43/8a/7fb7f3af532afc41f99b2c7d95447fcb.jpg'}, {'name': '', 'price': '', 'product_url': 'https://tiki.vnhttps://tiki.vn/lotteria-combo-ga-ran-c-p101361920.html', 'image': 'https://salt.tikicdn.com/cache/280x280/ts/product/c5/bb/f4/f81f559803a90ef79491703e25fbea21.jpg'}, {'name': 'AdSinh Trắc Vân Tay Gen Talents – Module Nghề Nghiệp Và Xu Thế Phát Triển Kỹ Năng', 'price': '1.320.000 ₫', 'product_url': 'https://tiki.vnhttps://tka.tiki.vn/pixel?data=djAwMXcOFRn3z59m4huc4bGhZX7BwM_HfTqssMNJ46wj_5dll756nU5dL3Zo4zaqZPgs8IOA7MHbKM-xUqR7xXEIx0ZnKAI9vFMutjt0WqlmYLgaAC1V1csDm5yLdJu3N-ohctiYH76Yl5EtxkFrWL1wkFm3ItV25_aOHZhQbkwt9U_MZP9VPI3MZ1nhw7XYqANqhXT9ZIfT1kWKadks9AtnaF1kOm5jb0rgBodqcPHl13l_HijFcGP3EiyTrz9_OoratkPpVXHI9kwY309TzgZgtEoCBsv1CmwnJJleDrPzKcM4UshIMvTCbl_HsKrkk-9xuVZiVHJtpl2jPH8XWSUSxzACGRWupzB69fBuYGYE-RGGbvifer5OYEzjXQ-2HI4wCxaUwPXh-6rtBS475Agm6iXN6bwFZiqn7fr5u0lWmgdPNDx56io1H5a_-3JivGQ9hpN_6brvCSyQ19krKplGjyN7JB0xApgOZSr31l2o0buXrW2whT7v0Ur8aaAE0TYLkMPuvu1CzBiv8sMs2BcH7H_QfZauQJ2XuLWduS5BVcyBfZQaRNdIWgRkfcx3vUVqPR_i7jQ_DRdWew9jqH2vmCe3j0FVyHV2UDIApeNNUMYjk_oacGY7k9rcHpofoqXGnlxMvyaRa9J19qU9t4Xf4280NAdIMkBZem_gwtf6QSXrxPmusa8ItW04UDfTRnDeZkbpP3jUeLIoddhJ1bFIaV6dJlECM9mRL1R_IBJy-hPkU0UGCjhh0-TXkJJHpTH6UGN2mM6s8TXPxGnpE1rrqv33z2TwwJ21fc4zWFxQOQn0rqvZJ0_CUS05rnTD1BV2DIce0az360UHGGHDgpmn3YOfmXCw3rEzr4X2Y7wSLriRMtMLzRHJmR26-xAgPpHEeSSspJH0UuBOjCLeepIsUXskyJnrSwf4HgomHaN_kyjHh_XjM8EgPELyk85DTEoGp_sqCSGkY3AYvN0IHhY-bNt_UQ8T5fTqHS0FM3-qVO7xIQkEp7I0caz7xeeT9z2JYmQgs7Y6da9YHWcMJKiZjIHFc6duGmPwh3DfesRfHngYsW8Zc_tdFsITc2BcR8Pf0GrLthUO0NGU4kj8ohItW8zlO8Zsh1zL8i097pSCA-7i_Rpz&CLICK&reqid=QniiJLuqRl&pos=49&redirect=https%3A%2F%2Ftiki.vn%2Fsinh-trac-van-tay-gen-talents-module-nghe-nghiep-va-xu-the-phat-trien-ky-nang-p104881301.html%3Fspid%3D104881302', 'image': 'https://salt.tikicdn.com/cache/280x280/ts/product/f5/2e/4e/49c97f32878015d790e19e9f48b623a6.PNG'}, {'name': 'We Escape- Trò Chơi Nhập Vai Thực Tế 5D Hấp Dẫn, Kịch Tính, Không Gian Chân Thật', 'price': '99.000 ₫', 'product_url': 'https://tiki.vnhttps://tiki.vn/we-escape-tro-choi-nhap-vai-thuc-te-5d-hap-dan-kich-tinh-khong-gian-chan-that-p7668694.html', 'image': 'https://salt.tikicdn.com/cache/280x280/ts/product/3d/34/80/1160702c522f7b145ed1808b88fb7f05.jpg'}, {'name': 'Phát âm tiếng Anh chuẩn bản xứ cùng ELSA SPEAK - Gói học ELSA Pro thời hạn 6 tháng', 'price': '559.000 ₫', 'product_url': 'https://tiki.vnhttps://tiki.vn/phat-am-tieng-anh-chuan-ban-xu-cung-elsa-speak-goi-hoc-elsa-pro-thoi-han-6-thang-p17929215.html', 'image': 'https://salt.tikicdn.com/cache/280x280/ts/product/e6/e4/72/df713bc87df7919dde0855629205d3cd.png'}, {'name': '', 'price': '', 'product_url': 'https://tiki.vnhttps://tiki.vn/phieu-qua-tang-tiki-800-000d-p9672465.html', 'image': 'https://salt.tikicdn.com/ts/upload/dc/0d/49/3251737db2de83b74eba8a9ad6d03338.png'}, {'name': 'AdSinh Trắc Vân Tay Gen Talents – Module Khám Phá Tính Cách Và Hành Vi', 'price': '1.320.000 ₫', 'product_url': 'https://tiki.vnhttps://tka.tiki.vn/pixel?data=djAwMZtljuV6QARxmz5zGEQTh4AoEfCziTTEhaIpgWXBrkOsyCxGvFAz0GF5GHVNzQgmt9e2aiGA6lSedaqm0VNo49rvTUvMrsDgHeDIdIKkYddTpR80bc2y345IS98A_aKlG9ppTSVSNF3REF4cd_m7twel7ElZ9eC7nuF_djOEq8NFosK2x-dju3b6sOLPc-8Sp4IJj47Wbi-JvUsD7NID8o4WDT196zBfzgxrdOramWmZKOhkIZ48Rlb0pPVeQIgYhCpA_flIiFVmlzUAn2H2di31bNQzf3r3PNoE7Q1SxNqhT48-tR1dXZMDfR3yod16rHKW7XxXQy6-gP4rgul513svSfbWmlDL5bMaykUbGrzSOujKxDmRbVxIagesbBqjdqRGbH6SzXBuGBu4iUBgtO7X7rWDwBmlif-8hczsy51phXAJFinr4u3EqRZkNHITFKdM5FEelMmaCnbMB4-fj3AhbB8mLa50mQmbZ48SskaJejaznCzfc7ovI6uqE7ltWrVZEJyzvbBMbptmEEF37qEY3_YWxBcLpaci02FZZr-JA6yWS-ovSs2kQ91vZyjNH6W6RYF5qRvClN2GmP60UgRIcOWs1I8AkL8pa0WwuSyC9KEbHbIf06PE3x_DzmyS_B3HmKf0LefdgaaV2aAc9cm00muKf6XwJj_L_Xe5EtVTZHe0TO_kgrtOBkVcB2IAqI_0XCzcBeFQziE0ffXjCaxe0eJLRzLcoQ-MOgXnhRr_qP-XbJtWykTh9BKKBW98pK9zKJdG95LMiqyaMejcca-yoOc9-9IwIFm9GoppIDVCMONNbu5KiOU2FYCEnmCzJg_OHJeI-Jz17SBrYAUcG8drk3Ar3NUGHbcjE4LCE2QePp8jfVYRkKPXxmPA8hv5VHS3sT85Uc6_eVpY2XNRGSpYshjpTBvJK-HFHP4Sk2oJVfO7N3asf0rl_ebwD9NKW0Lqrb1xEWdLQWFiSknxHs3wZ_7ET2dTvjUhaV615rmpWwIkDECObGk7hkkkcvvCE9nGFu9nP_jTni08PgtTcJZG7e41ISNzjXhPgXOFx03CHoNLpnlneA_LOJdKriR79k8JxOx-atgrePOgrAECGBGeZUf5i-p7ffjbPs5028jSkadO67g&CLICK&reqid=QniiJLuqRl&pos=53&redirect=https%3A%2F%2Ftiki.vn%2Fsinh-trac-van-tay-gen-talents-module-kham-pha-tinh-cach-va-hanh-vi-p104885199.html%3Fspid%3D104885200', 'image': 'https://salt.tikicdn.com/cache/280x280/ts/product/f5/2e/4e/1176527714e2308cd3081d4aa48e0161.PNG'}, {'name': 'Khóa Học Sketchnote - Diễn Họa Thông Tin Bằng Hình Ảnh', 'price': '265.000 ₫', 'product_url': 'https://tiki.vnhttps://tiki.vn/khoa-hoc-sketchnote-dien-hoa-thong-tin-bang-hinh-anh-p1671891.html', 'image': 'https://salt.tikicdn.com/cache/280x280/ts/product/36/22/72/a538cfb4b66fbc48442ea462973aac85.jpg'}, {'name': 'Sách Nói: Cà phê cùng Tony', 'price': '10.000 ₫', 'product_url': 'https://tiki.vnhttps://tiki.vn/sach-noi-ca-phe-cung-tony-p112563601.html', 'image': 'https://salt.tikicdn.com/cache/280x280/ts/product/b0/f5/b0/b808124d5a3e163c3e0c5efbe0d4a3fd.JPG'}, {'name': '', 'price': '', 'product_url': 'https://tiki.vnhttps://tiki.vn/phieu-qua-tang-tiki-400-000d-p7322047.html', 'image': 'https://salt.tikicdn.com/ts/upload/dc/0d/49/3251737db2de83b74eba8a9ad6d03338.png'}, {'name': 'AdSách Nói: Trở Về Từ Cõi Sáng', 'price': '10.000 ₫', 'product_url': 'https://tiki.vnhttps://tka.tiki.vn/pixel?data=djAwMaOOj3Q4uIxHEKJvWRO_kUInQTECHuRs3N0wyXNweqU_kRQGwyZvvgTBuHkV6LMPuwfniPzoyRGCtsYmlJf9OPVio6sSwgBl7gBaxyGVS1U51ac7hoFiDo7AlIdaTJ6DlMQBq-B9uUTJsZMTVVrOIdws_qbzg0hRkuJW3EuYnlLesJSVG3ZR3tYufEjkktXQbEs0i2loRbixlG99fvv2ztUV-8PNS5K45EY2CeIUEkJOoshJgW_4z4HC5apBaYECFHHkKoRFMRCAe-xatciExTB73o_xqPpO5QietwyJuhOVZ4yzBPDNntPZwew6-J0PiXBTRHC8yfNM7YpmlQBQACTp73Wuz-Fa2fY5AKrGZZU5PejsKKRlZvWb_PLZp4-bSm4PITto75B0EUU79xyl7mUWyf4P_oj5Tbd0cpm-7athlq4yzfMvsoutk9BW16Dp8FLamnUcY-qIt9oFSC5fYRLX2rU6CTKfw7ck-FGeL6odgSS1MFC8cjJiqjJSTJyVitdhTV64Z36Wepe-6xQ1lPl3Ju-UncrQPj44UvC0XFrmZ4CZc7iiVpk-6FC02D5Pj_18iAa5EtzHLVDOzigGpep1ss_oDmQ27DTWYKqq0JcyeGBItKL_U76NbmcHRAhc4DfVkuBc8klFYsWoCPXrEx99FMF_kDdEkSJYjjlUkMvG3nIq2JK-JgTVqy5DDNMgQTLYLYBlJml232fIdglcBgPq-mUREvRoRSw3AsXSGdN7eKy5NyXnuB6hOY_qKRSJHu1-HdicX7BZ5L_FI2udwjg_hNGpGk5kIE5l2_B68_ILhYjedCOyxhdej72H3UUttC4p-2a9E0cWwMvPdhPrebxa5aWG9WKh0ZfMICXTd_e1XG5DuvgxNO2G-8clqy3pqXSyHaPimMXEbP5DYnKCTryi06RicteeOVXxsjkHR0jlaF5GqAq9f4DoJjxIgIw3NFQg6IxLorMO35J-bEdjl4F3muWJHY7JUWB1cSIhuDCcrjxBK3QidsWlWz3dqNNx3MHjJkH9cLKkNbvy-jh5kg3AH8Hk-WBLGAU7voUpKw652QxaZoS0mUiKvb1sWpvmPCCyCnxF6yNPYTSVUmqJhA-s_mUdwJlok2TEguJWermp_QJsMy6K&CLICK&reqid=QniiJLuqRl&pos=57&redirect=https%3A%2F%2Ftiki.vn%2Fsach-noi-tro-ve-tu-coi-sang-p113352657.html%3Fspid%3D113352658', 'image': 'https://salt.tikicdn.com/cache/280x280/ts/product/ed/19/e4/ee1a5b4a47d696f6ad6e365e9a5830e5.JPG'}, {'name': 'Ứng Dụng Học Tiếng Anh Monkey Stories - Giỏi Tiếng Anh Trước Tuổi Lên 10 - Gói Trọn Đời', 'price': '1.424.050 ₫', 'product_url': 'https://tiki.vnhttps://tiki.vn/ung-dung-hoc-tieng-anh-qua-truyen-tranh-tuong-tac-monkey-stories-goi-tron-doi-p19844869.html', 'image': 'https://salt.tikicdn.com/cache/280x280/ts/product/a8/4b/bd/782efa2846f5a12034e4ca847e2cbf64.jpg'}, {'name': 'Phiếu Quà Tặng Tiki 4.000.000đ', 'price': '4.000.000 ₫', 'product_url': 'https://tiki.vnhttps://tiki.vn/phieu-qua-tang-tiki-4-000-000d-p24382188.html', 'image': 'https://salt.tikicdn.com/ts/upload/dc/0d/49/3251737db2de83b74eba8a9ad6d03338.png'}, {'name': '', 'price': '', 'product_url': 'https://tiki.vnhttps://tiki.vn/so-tay-tu-dong-hoa-tinh-ket-cau-btct-p47421293.html', 'image': 'https://salt.tikicdn.com/cache/280x280/ts/product/8e/39/08/53c65bac45ef5deab7ae9a76e6c27d32.jpg'}, {'name': 'AdVoucher 60’ Chăm Sóc Da Mặt Chuyên Biệt Hydra Acne Tại CC Clinic', 'price': '300.000 ₫', 'product_url': 'https://tiki.vnhttps://tka.tiki.vn/pixel?data=djAwMTkqJ0gq0K4p6M9FMbK_j7xV_BKjDIRS7hkDNCy7b1PzNayd09pb4beQxddpQ4q-2m2gF6sTH0sBJMox4EwgHZIzrlGwoPW1N7DZrWWqVQPqw71TiEWktHKvueczUQLFuh6lC_gkArsXrnlknl-utF6RhF0kH-wMB3z18op1y4Q_CIgheh7mkOnAgnaHKyRrl0m0FxIWwFi8IcBdmkDiYYViJ6C0JKkiZWyI7T5098spVFrpXDgcEe_OXChO8FuMhHFYCYQAXY4qEX17DIR0vgSAqQiidHbyyiNx7ju29m_jKUUryyq_vzWDwAeThIZjp5izkbEREUCjGRvF8rFRIt8cb5cJC07fGvrWd_EOFVEL7qKu_aVZZH7uR0QgzzmpDfjHi7I-xcjqizYevCUZQW1eysmg44cwjAJc5mTcMzkHlfckVnYSp1QLvvCEgk7BB1tAna7AS_1CT2OaIloZyZ4UdtrmmibHJtOudIm9x3XbTPGRcNdJpwlTPWwxVfq0OIXptE-H5IubIXoOV2ty0bh5MWNyUahbRyborggGpukSfw5-hAUl2YpbdJMeisDw9EiMgvsXDHG_QdDKcu7ji69b37i2Q-e04ptqHL9saeyyJRlBl5AhKzTxsXxMQ3FL36KIyPcVUmX6dExJrZONlcujCB3XcBYyAFoHQeSVtCTe_aECzMuPu9WJBRsf4bAljVn5kZ1otLAK81JiktYTpe7NB1aXq-ZVCOaSOwYVs8GdliaR-rpXiFQu712p_UJFgVF9fsufWQUG3VQQDDdOkGZJpuMgQnM9k3l6RN3i9N90o1runK8p5Jn1tc-0yuzGWAgVz8eMyQrVzPTe_5-iOxwyItEO5_3NhGEQWI1xRRk7vNKzSltTIQEiEYgG6r-v1XtxgMnQP1GPE2KRBL4lS_c8mvBh0cWKEIqjCVyJLZHYif7zthy14Da8ycta9q6kSPImtDCzs8gXub08YrzCk_49F7gnLL9kf_oQcgipPnBM0n5GLlgZSdpeJWXzum17Jhstwj7aZrnWO23j5YeC7D7RezsCSC1pTt5oZEuxlSzcnAXXASO0_L96SP8KFJAK9Xb7pMXjPTFRreDoBO70UMexOa3AljbpwNZ4T7vltu-la8qDAr1pzHY&CLICK&reqid=QniiJLuqRl&pos=61&redirect=https%3A%2F%2Ftiki.vn%2Fvoucher-60-cham-soc-da-mat-chuyen-biet-hydra-acne-tai-cc-clinic-p57799423.html%3Fspid%3D57799424', 'image': 'https://salt.tikicdn.com/cache/280x280/ts/product/3f/e1/0d/3fe24d1f12cf340800b05be23b6a840f.JPG'}, {'name': 'Combo Vé VinWonders Và Vé Vườn Thú Mở Vinpearl Safari Phú Quốc, Vui Chơi Trong 01 Ngày', 'price': '955.000 ₫', 'product_url': 'https://tiki.vnhttps://tiki.vn/combo-ve-vinwonders-va-ve-vuon-thu-mo-vinpearl-safari-phu-quoc-vui-choi-trong-01-ngay-p73882189.html', 'image': 'https://salt.tikicdn.com/cache/280x280/ts/product/e7/94/0b/24369df3301fc514ad80c20ce7461f64.jpg'}, {'name': 'Khóa học trọn đời- Xử lý video, hình ảnh và audio với Adobe Premiere, After Effects, Audition, Photoshop nhuần nhuyễn cùng Giảng viên Vũ Tiến Thành', 'price': '119.000 ₫', 'product_url': 'https://tiki.vnhttps://tiki.vn/khoa-hoc-tron-doi-xu-ly-video-hinh-anh-va-audio-voi-adobe-premiere-after-effects-audition-photoshop-nhuan-nhuyen-cung-giang-vien-vu-tien-thanh-p57783187.html', 'image': 'https://salt.tikicdn.com/cache/280x280/ts/product/59/32/ca/a960c742335772ab059c1f0964eedec3.jpg'}, {'name': '', 'price': '', 'product_url': 'https://tiki.vnhttps://tiki.vn/ga-nuong-sot-me-p56246498.html', 'image': 'https://salt.tikicdn.com/cache/280x280/ts/product/43/49/d2/61ccd89d0171de332fd1c3c83b5d67ce.png'}]\n",
            "Found 61 products\n",
            "[{'name': 'AdSách Nói: Trở Về Từ Cõi Sáng', 'price': '10.000 ₫', 'product_url': 'https://tiki.vnhttps://tka.tiki.vn/pixel?data=djAwMc2LLZYNCemCfgNk4c_Ug07j5KLFYou8ZQ7-c4Fhr8eWWWPn1YjONTdDlrNd8a9cTTtrYVUDgqXwTGdwXc8jo2H239dRuST_lnyQiVyQp_2cuEpnn3rFhLWHHE9MuF2Wk5Tf5URYVYwcrA25pUQ1CGrNWZYjNpHUIZMkAjIr2h3lM-IAVpHSqq9HHfLig96zaSlZllVej9g_2PcRCOFDGM00BJO9RO1XrGuuXqw-JxtsKNI7TvFJFJ7aw5J8kpS4Y9GA4yFhXo0WIWa3D8_tnlJAVy1Dy4TmpLLxAHdKHMtfrHj5JZKht4Re8TGcn8mwaaT3HsB55lkPAZv5DwV8LlG7X3UX2KXBPqau6reFBp9X7yNj-8f-RHorDFtPKMvEkdI2LbQuOAkjuwG25IY7ll3FWl3IV9tLg63lSnfxxQiQqCW73wI_oJHF-w7xUtUsG5mI-ein2nZ98N0DN6CCaDPgqFoB5e6LVqrcczHsv-xU4mOD8HGJmwbcpPZS8u-qiYQsXfEzaTtvWbUpuEVwTAVRZ0P54DbzwHa3AQ70nFcG7idfi-cANN1p38ggh9YTLCXPyMveRwaoGGE-D6aeGThQm_2tStDupE8oArq19cy4F4u_10sioXKz8EsxHK-9zMZvgkqd1VDhRl85EATMGINhi9diBytdYNitZMDvWTZXk5-ihCLdD26M0e3I3CdsrHkwtKDtzd3zE42QfPHrXesjCqdt47IzZDc4md2WbI5vD3BQIULWspvVUGshnn8PF14DRA23rLa17TumGOTMfOmLNtkcB-NfNouR6GD_ao4tkUWXDzmrVHQLjGzpOqxtZhkuo7wz8Kiw_GSc4eTEzneZIsgSa0NU053vgTJjcaKlDff4hk_h_s49BQJMXy80Kt6y7lea6vyWuZBMU2A1CC1qY38EJYx1PzTd2WXn7HOxkFhPtj5uUhlYmImpBUMr40Yc3V6U-cfeLdGZMxkM8depQyvtix5_0y2tuxYPU9Bv01FMgjl-ExydOOKsfptnqMQ58H45f0cXzchYh-ovwWfAB9BIz7jBAhH0O-sVz0MwxrGpv9neCNt9IJe8wplF9-DxulTGFS3fLDTNNZbVEiHwbFTpG4GJT8E1l_XR9e6s6ow&CLICK&reqid=zTwRuwi9df&pos=49&redirect=https%3A%2F%2Ftiki.vn%2Fsach-noi-tro-ve-tu-coi-sang-p113352657.html%3Fspid%3D113352658', 'image': 'https://salt.tikicdn.com/cache/280x280/ts/product/ed/19/e4/ee1a5b4a47d696f6ad6e365e9a5830e5.JPG'}, {'name': 'Lotteria - Burger Gà Thượng Hạng Value', 'price': '53.000 ₫', 'product_url': 'https://tiki.vnhttps://tiki.vn/lotteria-burger-ga-thuong-hang-value-p75607910.html', 'image': 'https://salt.tikicdn.com/cache/280x280/ts/product/15/0f/06/c041d5f0796a0c1344e871c4824fce20.jpg'}, {'name': 'Comico - Phiếu Quà Tặng Comico 540 Coins', 'price': '64.000 ₫', 'product_url': 'https://tiki.vnhttps://tiki.vn/comico-phieu-qua-tang-comico-540-coins-p72741213.html', 'image': 'https://salt.tikicdn.com/cache/280x280/ts/product/25/2f/16/e98ae8fc02a283ddca12273cbc66cf0e.jpg'}, {'name': '', 'price': '', 'product_url': 'https://tiki.vnhttps://tiki.vn/ngan-sach-tiki-ads-danh-cho-nha-ban-25-000-000-d-p33544477.html', 'image': 'https://salt.tikicdn.com/cache/280x280/ts/product/24/0b/d9/ccb7e1fda574aff9c27de5d65ecd0d7e.jpg'}, {'name': 'AdVoucher 60’ Chăm Sóc Da Mặt Chuyên Biệt Hydra Acne Tại CC Clinic', 'price': '300.000 ₫', 'product_url': 'https://tiki.vnhttps://tka.tiki.vn/pixel?data=djAwMW-binv0EjAPwrpjiM9Omt1LQhBwFmIqFmHjTnvroJ6kq6W_wUAjQPdiqId3PbT6vwgVwICbFD9l8DQgIcZBi8krEhMCPnu0QvS7I_SR3JeiTp9f0NfJ3-H0-rATRCuD2Jngx08iYL1aNwoVnMbGB4-JPPbIDodLrhPN-pQXZ1LJ40G6bHNKdPDt5bGQkDlypw4tCbwPd0nETSkPZDlTRrj_2ayLDy58dUM2cMJOCwnq2USCxxjahOg5zkniPJObkqjjpnOKtqk39OODhsmxvYtGkpa6YDkxR1TJlnwH9A5Mnn4h2HGP2uDYCe9mlJ1kr6kxcCcAgUDtvMJLRq2os1CRRwGWCXUu-pIcEGhQwVUMlHbVXPKirr-meI-CtF_dkjtzCj5qZCg4pU8KLjWu9lbnmStdRNBrAQpqBuUep3SxbdTtnriK9H5xfIMejnHz6nEJVKGUf5u-pLMvAfefxk1PVi-BbqDy3ex4u0qy3-NEHArFrI3uiieb_H-t1tn3ggRlPctrCNu1Q-FB4qLewVUoqaDnJLqNEtj5o_8efkMxEov9ItF4vwu4im0sxC1-fsOpoe477so0W7XabAuINTDbElK_K5MP0VlNlY6a1YPWzAKxo-44o28rtbhikmv-BAg56pIvMcKFj-lAHjHgvzjQj3uR_GEVceIRSbNB8sfB3y920uIUilepCCZhNU674NJ6UaSkCVvcOGIgGlepgwbwjE35QPfLaLzI1J5LgVtsA_M8LIrBE665ibP5jT1UoCscIeac9h3TE09f6jmgzVwWMnPuUlpcomPv_rWmrfBaUeOhyna1lnvAUGqA_4XRNeOatk5uEHj1dJ-ARO_sXBdDSlxU87ZVANAKHEo7AlfP5GYFgha6u3YwDSC_iSPM5k1C-1DmhkbjbEvOMu2ACjCk1-EQqHAI3bUCpw7gaApkIvCKNrG-5-eCivU9rKq7SDfXsoU3FP0KCLuubbdUCv9j-A9s1-5OLM74fKFmgZEu-6Qn129GIXPORasZLNjN39IqIUdT68z_sMlDEcrgBwcQOq2ziTIOWQD_zxf7UJYju_lkzR4YyHhmNJGmKcDoWY-gYzIqfrVOSH2YYjkT9Unz44t4anBg4Z_EaHw8ToJFm-w6PO0&CLICK&reqid=zTwRuwi9df&pos=53&redirect=https%3A%2F%2Ftiki.vn%2Fvoucher-60-cham-soc-da-mat-chuyen-biet-hydra-acne-tai-cc-clinic-p57799423.html%3Fspid%3D57799424', 'image': 'https://salt.tikicdn.com/cache/280x280/ts/product/3f/e1/0d/3fe24d1f12cf340800b05be23b6a840f.JPG'}, {'name': 'Lotteria - Khoai Tây Lắc', 'price': '28.000 ₫', 'product_url': 'https://tiki.vnhttps://tiki.vn/lotteria-khoai-tay-lac-p75697892.html', 'image': 'https://salt.tikicdn.com/cache/280x280/ts/product/26/de/35/55fbd464cdb97567176e0f62b7011bf7.jpg'}, {'name': 'Khóa học Tiếng Nhật online Dekiru Full N5 - N2', 'price': '999.000 ₫', 'product_url': 'https://tiki.vnhttps://tiki.vn/khoa-hoc-tieng-nhat-online-dekiru-full-n5-n2-p52847259.html', 'image': 'https://salt.tikicdn.com/cache/280x280/ts/product/c3/61/3e/85771f56412b863f01d9df87439f4547.jpg'}, {'name': '', 'price': '', 'product_url': 'https://tiki.vnhttps://tiki.vn/westudy-luyen-giong-noi-bieu-cam-cung-nsut-ha-phuong-chinh-phuc-suc-manh-dien-dat-p108801628.html', 'image': 'https://salt.tikicdn.com/cache/280x280/ts/product/84/ac/f4/5dda9d13568ce5ade1747509e1f5a24a.png'}, {'name': 'AdSách Nói: Hành Trình Về Phương Đông', 'price': '10.000 ₫', 'product_url': 'https://tiki.vnhttps://tka.tiki.vn/pixel?data=djAwMbqrBNReA_ybssfwsrhVwhnhYszVb3oPRmvFUSNVzTtfvVm5dDvDD1OfGl52j3zhKeP2r0NwjkCFRpw81Hnx7olkbvGUo1hXWC7Y1YZix_X0K__iDm6tmeBHXU6tmJ62IQKrsE04ZpWdSd3khjn2Qhnhh-J2_O4sHemj6f5g95PjC2248lpgfLEixB02-zdsIM7W34QQX3aDni6XbXgKDgRR3nEBcpF_yO5aEqYutIFNtWueGsF4IsxjSKoElGQ45b6QDNMc_O8l8-Qe2iSVJ53v3TNYv_h9x62kwTVhOAEmpSNOI9ykp2smlFYuQbhacBZfJDMYME2ta2pxUbnvN8o8Xwjhpqs7ER4trWESf2JljjYv3Mpaa4126UxXBUroswnRe_s_VK76VWT81BYHScmgefupVD7E8UXNi0JHZQyaKjh-HXkyVNTYJb6y-HpvlJRlpmKx2s68RPLevbG0AvzYhMjU11eikz5qEjeZjhOXxjxTpODHXaX4UrqN5cEgyM-VUaro58xm5cr9muN78uSxXIRZkSdAdNyD8WpUwTOCtKKcoZxVXzOU9C_-QSbBf5LIQ6EfiqFhRk2fNJojlKYn9J6P2feRRj8q8370bxZrY7-KI5iSbMfyD5BycKURqBWV4g5_nXxyVszEdpDPUlzMgvcucf304t1LIC8C0B8JnSPn95ZpP6b_k3GlYjBeU_6DiClNJTZtMTH6pb3CNVdH1PoNiUvVo1AuhzLCrtXN45bPvtgGt0IzayXmcMf-rO2mVT20JZOjAvGegtGrRsN5n9Pn5MenRp3p3srEiWOkPKA4WXFB0dzFJos26bNidN-WTzJKQCVUe5HB81DGt9_cVcliA1SPEnSlcOKkYRdaSIwuKyvQv5tT_qVmDLoP1ARUF-5TxfmwWMCv3gLgpCBjn4dAGAxoPTF4Jr_7VQafTgclf9UEJOjcYoMTdg_rMcfYsLwNSNoJnOGXQlhyolFojrfRdRb7BEh9CxhTssyjShVaXjy7e3IQbwaakYWCOQzE-WT2JyIpPaUJJk1FW27N-tt1eo87E1Zo4wW-ZBasEDu3vseJI4arb-JKhtkbvu_iDsVHY3tSao5lWC6fORlsmrVVFeC9j4D6yu2j0jGn3TrYaA&CLICK&reqid=zTwRuwi9df&pos=57&redirect=https%3A%2F%2Ftiki.vn%2Fsach-noi-hanh-trinh-ve-phuong-dong-p112694411.html%3Fspid%3D112694412', 'image': 'https://salt.tikicdn.com/cache/280x280/ts/product/46/10/b9/0d01c4b152d43aaf156ece92b2db300f.JPG'}, {'name': 'Khóa học THIẾT KẾ - ĐỒ HỌA - CẮT GHÉP BANNER , POSTER SẢN PHẨM ĐƠN GIẢN BẰNG PHOTOSHOP', 'price': '119.000 ₫', 'product_url': 'https://tiki.vnhttps://tiki.vn/khoa-hoc-thiet-ke-do-hoa-cat-ghep-banner-poster-san-pham-don-gian-bang-photoshop-p72196799.html', 'image': 'https://salt.tikicdn.com/cache/280x280/ts/product/c7/06/84/20d6bf115f753ff9458f179ec6b90c64.jpg'}, {'name': 'Khóa Học Lập Trình Python Từ Zero - Hero', 'price': '275.000 ₫', 'product_url': 'https://tiki.vnhttps://tiki.vn/khoa-hoc-lap-trinh-python-tu-zero-hero-p1671889.html', 'image': 'https://salt.tikicdn.com/cache/280x280/ts/product/25/4d/a3/81972df30956a2a56ddb55f877d9a24f.jpg'}, {'name': '', 'price': '', 'product_url': 'https://tiki.vnhttps://tiki.vn/kidsup-montessori-online-goi-hoc-tron-doi-p63041768.html', 'image': 'https://salt.tikicdn.com/cache/280x280/ts/product/b2/06/c2/83458393023bf99bd1ad7c48ae875f62.png'}, {'name': 'AdPhần mềm khóa học, luyện đề, luyện từ vựng TOEIC Online bằng trí tuệ nhân tạo', 'price': '280.000 ₫', 'product_url': 'https://tiki.vnhttps://tka.tiki.vn/pixel?data=djAwMRWgKxaSSlnjSiY3MDZlUttuYokEeZzVwjdkr9SDxvp-iOXsV1QexhZgfQUyhQsP7g7wy--GwbalgjWPViFv-KsVFsmyazb8vSy72O3_ILN_qz2tb_1OT6pFy2gblCcQG4wc0aXbCZr2uZzTHp6Qb6Tlx0LEinXX9hNPy9b_pN7AST46rYkwJftNX3cHhqQq5-rvm_hvF3yNzjKTJXWe08Lqv0Kmij9cnKogBqGau70j9tuCOFAK-MrFUBMuy2bHmsYQy87KOykaZN38fuv-0Cw54LLp9aaz6cxTq9Gb6Tdygmhes-KUYBxc8FCVK46wcGJftkJ682fZfsYGKMuZzLU8_SEeR5UACi3ZYSxnPQ0PYZb51HvHaDYKNIFNBWE3kQJ-DREUw_kZDiWYlA-WlWaDm8oPAu6mJiV80s-jX3r-uLvc4Z97Gw6M4TA2JgpLGHO8ccne5ftlE81C7r-IpTyOrUSY4kw18b7pHYzX1E0Ov3FRtnUklNvwEPMZ9yaSOar92omwRyqUtqSdrm_pqOVKYr0tyqIjwOluq8SPIG1odldnrLJxXHzSLml3yPrQJW35rNlUEccKAiSGWoYgXNZLzi_kbeM4cIthmudRetl_doeoKC6tLxLg658qfLOyv-6VpiojmDo86s9gO1vgxlnhqlbNtq3jqyi-99M-PdQVbSh5tJ0zF9lJbg_c1X5b46tZf67hR_-1KMjf_0ERU4vboasmcW2MA3B_piMkbqEyEhbbWtHguWf6iRuQfwcT41QGeDDgRg4ErD7GRMwGWGxZwbhm9lzRCsWxe5QW_Xdd79WcCQ9oMHRKWO3sK_cSnrstILNN2Q-jd-WKXgMQ3XHyt6II-VoZmA5R_jHaFdLE6VP_g1s_U4J3I6WwfQRFd8ogFQO4S8kPhdTtv-uwV68dQHDV_Vst-CPEO2sPQL0whMWRA3Co1TKRaVTGqoca28XLxZRpzAFkWuXpIaEVhRcb2z2UF2J0CpiA4LYgDKGJZsLSKCnig3e2wgzTPcpVA-AyfiqP4ml_m1Qaa_rSullHHm1erC1DF8TILP0f3bqLxWqgV6_i9ivis6LUhbAr0iHFF3KRPD5T2rXvBTcTfPQr4C7CHLMpiFF-4AyDtZs4dj0JpuPZIrCDLV9siA&CLICK&reqid=zTwRuwi9df&pos=61&redirect=https%3A%2F%2Ftiki.vn%2Fphan-mem-khoa-hoc-luyen-de-luyen-tu-vung-toeic-online-bang-tri-tue-nhan-tao-p112290950.html%3Fspid%3D112290951', 'image': 'https://salt.tikicdn.com/cache/280x280/ts/product/42/7f/c9/57941b078a6214f4703e4de4fe204c04.png'}, {'name': 'KidsUP Soroban - Toán tư duy - 1 năm tặng 3 tháng', 'price': '490.000 ₫', 'product_url': 'https://tiki.vnhttps://tiki.vn/kidsup-soroban-toan-tu-duy-1-nam-tang-3-thang-p59244348.html', 'image': 'https://salt.tikicdn.com/cache/280x280/ts/product/a6/5a/f1/2d359c2407a4c8ee09dd41eec49ea0e0.png'}, {'name': 'Sữa Chua Hy Lạp Lucas HN - Sáng Mịn Làn Da Cân Bằng Vóc Dáng - Combo 10 Hộp Sữa Chua Hương Vị Truyền Thống - AD Giao Hàng', 'price': '279.000 ₫', 'product_url': 'https://tiki.vnhttps://tiki.vn/sua-chua-hy-lap-lucas-hn-sang-min-lan-da-can-bang-voc-dang-combo-10-hop-sua-chua-huong-vi-truyen-thong-ad-giao-hang-p19579180.html', 'image': 'https://salt.tikicdn.com/cache/280x280/ts/product/cc/99/ef/53644667424a13c1595c591b954a072c.jpg'}, {'name': '', 'price': '', 'product_url': 'https://tiki.vnhttps://tiki.vn/khoa-hoc-ung-dung-hoc-ngon-ngu-monkey-junior-goi-12-thang-p19814731.html', 'image': 'https://salt.tikicdn.com/cache/280x280/ts/product/3e/f0/d4/e2b002b2968872d391535a0af0dec87f.jpg'}, {'name': 'AdSách Nói: Tiền Kiếp Và Luân Hồi Có Thật Không', 'price': '20.000 ₫', 'product_url': 'https://tiki.vnhttps://tka.tiki.vn/pixel?data=djAwMYFCmPTw8TCovUEBdODl1WaeYJZVWKXkEZWWpRgbEchL-c1mSAAH5d-qwPMQsSk9cDnvTHBTOIJD_59lT6zdNhKGFujL5UuDCSvZDx_ziZhpvH8nq0jLt5sLxiRV9iXTvJQtpGnXMfx_oU7KqaV097pHkc7zd-jYMBeo5xnc7CSmY_L_MWLrV7zEVcaAp9UjYDW6s9fOrRI1I1ebT89JE57J8HSfVUYj8qzkEK3T8DGadmnL6lkh1ktbyoAE_2B2CCEITGxYGJhNwO9skK837xxNZSpVdPtsNVzTKX8XT3ZTJ4TgkkK-U0k0r8Yw7uLGv3tWGXEKtrSLfdtbY06qN1D0KZDyrwgDFJsd9aA7fFsYfmuTSoEMdIsuo5XQyLiEDpz2sOaWQJsRH4yCxJLOQg1XLoKJObb-AKNgAMPbehZKYiVQCVrGj7Kf-ykW0ybWg43T7AXHRFVBbBce_w7SGkIcf5-NhAzlJxCPlW4q1DR_CwJjT1l1NIhgM1MShRzD4OLmWMWn6_WnZl-mT7jfa_zZwOwdXVrhLJL45h7pqSb5ZUT9cSNtGzfROWDhMAGcx_NnJKefqMkyR0mXub-ecCDeYMVWq8jP0foo-QYRSowFLts3zXSpvwm7GSasyjffRKl4eaqg0kkFQmeSdYKozu15BdEWzLSjPEP9fwaK7DNBmE0qQQAVNtFd8Ofdw_Z_DHJ95oD-gZRZVAtwshIpWKEaaT7l61PixLwDkgCfNHYd_NwVzCVuk9Ae5s9IgovaHI26gn4WPd8SbQMeBaJBXdBaX0Bj0gLhqSerDEG8ErUe-5_J-_JI2rSyWO69p61O8CLjPZ9kkEwc0_7WlP8d1YJ7zwA2WVfSw5oJ7NNY5oVaBUy0ccpDI5CqBr-CYm0hPiFPJ1oI9zMiwdW29KX9UWY7VPI2yc8ziJpvnx4M1sgK01a-Na9XWcRlDm4Fwv39oJB2SWLTkCpBnKNT_Gw7N1XuwcUqzEWXEq_j7-2k6vxoii8Blyci89ztnJBWPpTISgsvwjPsk1ki9rGmA38mrqocTyId8w5kvG_gCShJsY80yPJzUrLkPFuRArE4LhD7rmx2SLgjKdr0mAdCzcg3CVslDHGeuUnoYrZRqyOA6Iw&CLICK&reqid=zTwRuwi9df&pos=65&redirect=https%3A%2F%2Ftiki.vn%2Fsach-noi-tien-kiep-va-luan-hoi-co-that-khong-p114587130.html%3Fspid%3D114587131', 'image': 'https://salt.tikicdn.com/cache/280x280/ts/product/d4/2c/44/e8f6a2a36823c77c98cf9ca02f7ac17b.JPG'}, {'name': 'Lotteria - Combo Gà Rán D', 'price': '130.400 ₫', 'product_url': 'https://tiki.vnhttps://tiki.vn/lotteria-combo-ga-ran-d-p101361922.html', 'image': 'https://salt.tikicdn.com/cache/280x280/ts/product/3f/6e/6b/bca8425bc802d0c33f8dde4228ecede3.jpg'}, {'name': 'Ứng Dụng Học Ngôn Ngữ Monkey Junior - Tiếng Anh Cho Trẻ Mới Bắt Đầu - Gói 24 Tháng', 'price': '664.050 ₫', 'product_url': 'https://tiki.vnhttps://tiki.vn/khoa-hoc-ung-dung-hoc-ngon-ngu-monkey-junior-goi-24-thang-p19814807.html', 'image': 'https://salt.tikicdn.com/cache/280x280/ts/product/3e/f0/d4/a5a48e213310bfedf9a198267ad65000.jpg'}, {'name': '', 'price': '', 'product_url': 'https://tiki.vnhttps://tiki.vn/khoa-hoc-thiet-ke-do-hoa-ghep-anh-chuyen-nghiep-voi-photoshop-mai-xuan-huy-p72194474.html', 'image': 'https://salt.tikicdn.com/cache/280x280/ts/product/39/b8/bf/aa1f08efec31cb13c99e5b010141b01e.jpg'}, {'name': 'AdSách Nói: Hoa Sen Trên Tuyết', 'price': '20.000 ₫', 'product_url': 'https://tiki.vnhttps://tka.tiki.vn/pixel?data=djAwMUZ_t2K3B9TZsjoz0XOfhvBhzniKV15O7Oe9a6F9AAbKALfNW8L2aMHGznXKd8yV8l87CCWU58KiFdx-Ka8MyYsPuxuzz1do9HggotmAh7OMiHO7-IkG5kjKvJV7i2ZkS3llcXFVlrkyzznNPbVT14sRvD6itty4YwnnF7KoLJqHLD69wIGvz8jgca2Vq_ZzQxYzzc-UPKSIxgTE2kVtbWVz9Z3dBP_N694bvlynKGs_3yc6H3yKY1w87oZsrcBk6EqdSfH0_y6PMSQgVXXTvPnNrhneMXZ8j0ng4r-9DGxLgvahcK5hsYU6_chfew8d3vPEZp8DXR0jUhCRaq6lwWy-qvgl26h-4jNEgOtUB5UjqpojpA3WDBZO68wQMtp5SwIKBVIkA2jH_KGmiugn-lggzg9hTuBkdZk1JHyV2FabnT4lEqGFf23jbkNyfY-Idcq2XAWsTO7YFBcc2TAj2hQ3FbwYs_jeBdYRssXgGcjZ9FaWiChhYeq6Nzt4dcuVH7C9KT1IC5H8xeTMS8iuRSnNAzDqHZF8RUPYg6qwnBmikbreo78ogBM1N1HEzimVdqUvvuJn_ut-vj7bZbmnlgPL93iabyFkj8cKHgtar0yZEOy3DC3LxZ9sJqGXeGtN0edRZa9k36G8GmifICulguzJiBbUCqUQ8_-38aJpEh12qfLRWiFTOi0ZitPnHLK6d4IhP2ffa5K7utSaEvs1d47vO2UIY8aBbyE5Z4Ef1LWV5SUZ41B0BySpBvqKQ2lWnoaPdiF2L20uRj_APvZDDAzGJVSzqEmTJBYeFpiAxk5bOITDFBo0Ay5YgKpFK6D03M87W24J84-WjVeO6IBA3r1VNBX2WB2joP9a4N2gMYRX0uLGCtc-JrDJPtxqQJI5ler8eQGq9iVDEmIvmZia6oTT84rv8PsJJ8hwI-7PReoXviS5JB4yfKPfLAszr3e0ABLvRO3KQX0jy5UCW4xcKWAeUQiNPAFvYOMS9aur-6qGUQFsEeGBZJ_HHQvDkot9ks7VheNK9J47oHVtTnbo61tq0clDSyigT33JtsImH7kbuTD2VTjboGiRHhUyhMyFpxI0yy9AcEHeWTEn1-LeSFP-zfCSDGPcO0winpB9-bTEvQ8v&CLICK&reqid=zTwRuwi9df&pos=69&redirect=https%3A%2F%2Ftiki.vn%2Fsach-noi-hoa-sen-tren-tuyet-p114035787.html', 'image': 'https://salt.tikicdn.com/cache/280x280/ts/product/b5/00/76/b11b5ebad76973ba40fedf8115a60bb8.JPG'}, {'name': '[Giá Đặt Sớm] Voucher FLC 2021, 2022 - Nghỉ Dưỡng 3N2Đ Siêu Tiết Kiệm - Áp Dụng Quy Nhơn, Sầm Sơn, Hạ Long, Vĩnh Phúc', 'price': '2.646.000 ₫', 'product_url': 'https://tiki.vnhttps://tiki.vn/gia-dat-som-voucher-flc-2021-2022-nghi-duong-3n2d-sieu-tiet-kiem-ap-dung-quy-nhon-sam-son-ha-long-vinh-phuc-p74983307.html', 'image': 'https://salt.tikicdn.com/cache/280x280/ts/product/87/26/79/b409caea43fd091e975b14b03a599a38.jpg'}, {'name': 'WeStudy - Combo sáng tạo cùng vẽ sketchnote và xây dựng nhân vật hoạt hình', 'price': '399.000 ₫', 'product_url': 'https://tiki.vnhttps://tiki.vn/westudy-combo-sang-tao-cung-ve-sketchnote-va-xay-dung-nhan-vat-hoat-hinh-p108510996.html', 'image': 'https://salt.tikicdn.com/cache/280x280/ts/product/2a/13/6c/8b1186210c82ecea0b3a6bedd90c2543.png'}, {'name': '', 'price': '', 'product_url': 'https://tiki.vnhttps://tiki.vn/goi-3n2d-avana-retreat-resort-5-hoa-binh-02-bua-sang-01-bua-toi-an-nhe-buoi-chieu-be-boi-nuoc-nong-khong-gian-tuyet-dep-giua-nui-rung-mai-chau-p108988253.html', 'image': 'https://salt.tikicdn.com/cache/280x280/ts/product/8a/6d/61/4741e006d9fd64f486048f1072c7bf32.jpg'}, {'name': 'AdKhóa học Sống hạnh phúc - Kiến thức khoa học về hạnh phúc và sức khoẻ tâm thần - Agilearn', 'price': '629.000 ₫', 'product_url': 'https://tiki.vnhttps://tka.tiki.vn/pixel?data=djAwMd-eUEZjnItibDhmsCjLietVXtx4THrcPxvEOaNdiyOoauRCOtOPJs4OFjvFhE4zPMzHmYrZjtMmBZ3kY1bNHcLhsDCcgiEdpFZuw4gkT-Ayl-a2-lH9KEurz6Eem2RL4q2t97nFluERavipLEY2I22ZfpW3rutwhHfueOAOE3cnIqwioaI8MGtaUgmQCZJzmeqVXzHygLtg-k380LNk7e9AzqLhiuRg1_x_4R5Fl87MhtbvQvqRg2EkMX2ww6OHW-AYZbClCL_qmAnCKZXQchhtHYKvu_ZSLu2tktcgORei_y4FhgnQ2Dr4QgDTlktjQUbJVUE1sUBXzK5ujZvZUtUbY4_GHImNY9TIX6I5unpsAOw44qmF4Ldy1tPlvniHwLFn8we4-_7GWPksbbXE4CfX2L5iteNUNzcIge9-6_to0-iiD2Vx7ybgMJG-qAiEs9Q94XxlAGL_bQqiSMw5O1ADkFHidKmLfzIB8tKQtJ_A_y50qAHdOvS2yzlrgAuXPCL9VFLdfcSpaL3froIOES6xSqYMQvxeGZy8R59E-VjSD1WlcLc7I9g-vKnnN_b4EuYOrk3LpqUIrXjLPDI_bqEeSp7in22G4PqIcwMrs_Bibi97Rw5vE-4LlkyFz2OK9aiERO6IyGJVXIzexEol2hLPcEePeqUO48ha67k-xqsxkYsxARmuBFNzGMcTZ2_BUxPbFZnDgo4SFLaJhb22ATvCfOr7N-G-6Jp7Wo845gZNc_FmxKLH0k5J5OTr3Jc3qzZwg0sj6LBpbYxYUSpMcsIws9GcTnELLiwUL5nE3fIl_8T6tx5cSls05SCx2JACW-ylywKHiibKwqRcLHfefFL5Cv1xfYHeXqNW8fDgbYELXf4jXVrk8ncWwJKoMRmNAFBJY5w6SxCsjh2A58j7Gkqh3JV8v4cMrMZ_iVeXaC6lgU_re-NAgFPImdOjk39FcdJw-ZvD-gwH91ZZ3XKoM_P4wGAhH_zL2a9xjJVQ3WDqw3GJymENkUVFQkyHd9NAsis6GC_0TLKucaI7jmb9RUz-JL1yfMcXSusHv1isoqNi2-cf6hMUDRijWdVOd9rKLa0s_Oj_YnM36yu-S9V356cHCAV_LBF2w-RbhT0KDut8xog_0AvqJDk&CLICK&reqid=zTwRuwi9df&pos=73&redirect=https%3A%2F%2Ftiki.vn%2Fkhoa-hoc-song-hanh-phuc-kien-thuc-khoa-hoc-ve-hanh-phuc-va-suc-khoe-tam-than-agilearn-p106588966.html%3Fspid%3D106588968', 'image': 'https://salt.tikicdn.com/cache/280x280/ts/product/82/84/cb/fe9ae6eb7f2bb8c8a6598f320c15198a.jpg'}, {'name': 'Vé trải nghiệm xe thăm quan 2 tầng Hà Nội - Loại 4 tiếng', 'price': '85.000 ₫', 'product_url': 'https://tiki.vnhttps://tiki.vn/ve-trai-nghiem-xe-tham-quan-2-tang-ha-noi-loai-4-tieng-p91447189.html', 'image': 'https://salt.tikicdn.com/cache/280x280/ts/product/34/92/5b/bfebb1cd44d10a5dd0e248de93438df5.JPG'}, {'name': 'Lotteria - Family Set 1', 'price': '150.000 ₫', 'product_url': 'https://tiki.vnhttps://tiki.vn/lotteria-family-set-1-p72294825.html', 'image': 'https://salt.tikicdn.com/cache/280x280/ts/product/fd/b9/67/aae36283fe39788de5cedaf9cd8384b9.jpg'}, {'name': '', 'price': '', 'product_url': 'https://tiki.vnhttps://tiki.vn/jeonbok-set-buffet-toi-p98822300.html', 'image': 'https://salt.tikicdn.com/cache/280x280/ts/product/88/1f/fc/5fddf52ad1ff1e12aff6f2fd5d7d2d10.jpg'}, {'name': 'AdSinh Trắc Vân Tay Gen Talents – Dịch Vụ Tư Vấn Demo Sinh Trắc Vân Tay', 'price': '200.000 ₫', 'product_url': 'https://tiki.vnhttps://tka.tiki.vn/pixel?data=djAwMSciIfd9-rIvUHxZkSvCYh0Bk8GPUvAkdqdlggkc4I5vN8MoEEKA9iEXpMuXf9COpJ9jDpNx4FO2zdooLxOjxLkF2c_FZ6_p1XQp_zle1dKacXExaeNo3yoPR_w2WMPg8MNCllX-teQgM_A1Q4MIyB93uj_vr5gcxAACB7nPSGo1sjgpz-LZOaBaK6STOGh9MbMI8JliVc6TABl6MfKrWndJfiGo7nRyeWKjtWEIYxVH5lprBdHkA-VTSk4UEyDCid0i_5LMNYUVOhtsu5j8pEEh2YNrw1FweBRGvDOcQ2d6dft_3hdh7jBIgp9OwKJlBJRYf9xGG0wCPElE9gPs6eGBlDkHo-dw8yJB8pWDFr0YBW3AWOLVN3vy8HDsrbgR9IR990dE_wC1TNKvFGvNtdG8J3QAfPZ2UFcTz5UXycCZVwmD0UH9BtnLLLGSDqdX5V1E7BHxZ5pAJCiIeIkfHnlH2mb0GtiBRYtaA98hLAe_RePPTpSs3q-lFjF4LElsIDaGQlh49oFrqYJL85yW-vpjveicsahmcJA4VjW6k8c21STgmo1TmVd1QQXf1trO_-t2pGgrwax-d7JAwVhaIqmKI9ASzpf0yLyUhqHeVGBEdvs0XCUrNhJYASnRUHo-L6ci2VV6WOFsSpCZ-qzQOIf52xGnhLDYUeeJwX1QAk3rbpuEWHI6DnUHoTpQkXiDDmqFu6CmxgaZbyyYJoAe5smGwePhJMm8C2dTeSafB5zYmOa4bSHAu7DDrbPpIgqISSUE6NYz9SavmTMwYAkgMidEUKW3zOUMlwenjvzZQq6a24J_Wvrb4EL1Ww-QRaIH8aM4ooEOzCb2sNMXFeiat9l4LkvF0eCpcfCQdJeeDbL268nOCGzi1soM6WkiBrkWY54SFM1mGJ3I8OuaG1vjOTIbhzCAIZOZHNdMaGavPEIRpZj2_R8JWOygHMeeQ-0URoq197CGHKtpJAgOZNFjtqYt7sSmmtFLW-ISCAs6RYZ4iunkJs4wSySVSvIlit7kRLWBnM0yj_I75DMF6eA9ruBmFnfcT5KpdvKZHAePi4NHJ39JXyMHR2lOTDdfRra906ZFrCF6Rx7DTBM3qvW152mKR1bvPUJqObmEgpq0et6b&CLICK&reqid=zTwRuwi9df&pos=77&redirect=https%3A%2F%2Ftiki.vn%2Fsinh-trac-van-tay-gen-talents-dich-vu-tu-van-demo-sinh-trac-van-tay-p114203102.html%3Fspid%3D114203103', 'image': 'https://salt.tikicdn.com/cache/280x280/ts/product/b2/63/ef/763e0c75ded73b612bade026e836f99d.PNG'}, {'name': 'Gói Hội viên Ứng dụng sách nói Fonos: Gói 3 năm', 'price': '1.799.000 ₫', 'product_url': 'https://tiki.vnhttps://tiki.vn/goi-hoi-vien-ung-dung-sach-noi-fonos-goi-3-nam-p80901688.html', 'image': 'https://salt.tikicdn.com/cache/280x280/ts/product/1b/63/c2/6f1f113cb9fc3655b06f1a2246e95114.png'}, {'name': 'MONKEY STORIES - Mã học phần mềm tiếng Anh và tặng 3 tháng Monkey Math', 'price': '459.000 ₫', 'product_url': 'https://tiki.vnhttps://tiki.vn/monkey-stories-ma-hoc-phan-mem-tieng-anh-va-tang-3-thang-monkey-math-p108422628.html', 'image': 'https://salt.tikicdn.com/cache/280x280/ts/product/c7/e6/49/161e6b077f7be1b496cca3533238ed52.png'}, {'name': '', 'price': '', 'product_url': 'https://tiki.vnhttps://tiki.vn/goi-hoi-vien-ung-dung-sach-noi-fonos-goi-1-nam-p80901684.html', 'image': 'https://salt.tikicdn.com/cache/280x280/ts/product/14/4f/f1/56191c87cacd706fb70222e1d0079bde.png'}, {'name': 'AdKHÓA HỌC GIẢI PHÓNG LÃNH ĐẠO ONLINE', 'price': '488.000 ₫', 'product_url': 'https://tiki.vnhttps://tka.tiki.vn/pixel?data=djAwMSgwOBUR8Q_ynzSnNvshC9Az98aff-FmAvASHHYwZCuYSBk59EfBrxFZZjUcpMfR939tDLW1-W05m_9hQf6kLAuShDpxynVnEo3-a7hBAeGWU_NMl0oy7KTq-caRN2Vr1BEGnHjND9t65xuUEF478WVsEkEBmK1wvnek2He9z4bE3iMILGV-x25MA6iz3Rbrzod4I9qwKNrm2OJPwTKZVkp-l0GtSJoMhFbWMUtJx7FWeToz-rs5EIRqHin8u8gaNeoSBQO6_CuNB3BiPYPuoCXoqOnjKyiFb7q6-Bxz8jtVudYIjoa8INUtYJrIao2u_h1SLOyMfUeGUfrXMzujPwlCXsUPloR7ZhWhFGqye9nhUO4Lj80VUii_QMv7jMaeahHM0dDnVmbBAKPwMmAdedRw92rxsYgQYJIBzEaB2yR3XJDycQNPrkmQAT0STqI-KH-IxnYEyuiOO25IkCzqly8BkHTCC7BJcJmfQdCOeiXJ6cvaeLUx-gCY4VYhWkE9Z12sCGqRqhQAMzy9ORjOuYk7htvlG3ZeegUjFCK8sSVCW6RHqKRKV12U1bvXksUFj6kjkeBh7g9eNAJewzheKn9zW_qTgrsoCAPbCXrPFgr9rXLOnObOsNkGnCuCUtKOhZnrF8GoRybdMhomMmuwI-xz0chv9pk7ZQc15s86LI_2QjQHuUQrwwuTlmPPNEuAjEKGysqz1Hh38g6rlerApFXotW3-1FXbFSSVsFOqLytl2lBFh3wDWM3epvkiHlbzKttwi_AnwxlucBtY55tlp6mlbW6ThRqwNhFx_7XMXmAn_Pwn3iL4OBx4hkUcYhQSNSdI4WaBvBRBUffi2htXAQs0rbWPNCGZqi6k6Gw7QtRGObAXs8P3HCb6raNqaa_w5Ibmhs5FfSevOTRFRzOrjWWpbb_YCbM4pUtvB1h2-UzuA4mkDt6bZnYXL9CI2-WF-7SI2UY9j4VIeXdLoTx_OCEs0iKhFBhi61CQID5i8OrrXlzxxvltrgq_jb2m6YNo5zmlsm8UlkRfvBpKaZaxENjxfyNZFQHKAwujDJl51I7mPUzbRP30AzthHtVzKGjWI-_dhWTSrelrueT5ywyURwGPrpA3mea2TkuRFOobQj0b9j0JzT8&CLICK&reqid=zTwRuwi9df&pos=81&redirect=https%3A%2F%2Ftiki.vn%2Fkhoa-hoc-giai-phong-lanh-dao-online-p75523459.html%3Fspid%3D75523460', 'image': 'https://salt.tikicdn.com/ts/upload/dc/0d/49/3251737db2de83b74eba8a9ad6d03338.png'}, {'name': 'Trọn bộ 6 khóa học YOGA ONLINE NGUYỄN HIẾU tại nhà - DA ĐẸP DÁNG XINH - Tặng khóa EATING CLEAN', 'price': '549.000 ₫', 'product_url': 'https://tiki.vnhttps://tiki.vn/tron-bo-6-khoa-hoc-yoga-online-nguyen-hieu-tai-nha-da-dep-dang-xinh-tang-khoa-eating-clean-p72197818.html', 'image': 'https://salt.tikicdn.com/cache/280x280/ts/product/ee/08/8a/9f691befe7104d349dd41ff8cd46ca93.jpg'}, {'name': 'Lotteria - Cheese Chicken Set', 'price': '76.000 ₫', 'product_url': 'https://tiki.vnhttps://tiki.vn/lotteria-cheese-chicken-set-p77330777.html', 'image': 'https://salt.tikicdn.com/cache/280x280/ts/product/0f/33/86/3ccf2654087c31de3cfe3ddfd4a0b7db.jpg'}, {'name': '', 'price': '', 'product_url': 'https://tiki.vnhttps://tiki.vn/phan-mem-phat-trien-tri-tue-tieng-anh-kids-up-p76786173.html', 'image': 'https://salt.tikicdn.com/cache/280x280/ts/product/fd/bd/b5/fad8c529696dd7427a47bc923fe845b7.jpg'}, {'name': 'AdKhóa học Marketing Online căn bản - Agilearn', 'price': '480.000 ₫', 'product_url': 'https://tiki.vnhttps://tka.tiki.vn/pixel?data=djAwMTt6HegjRDR1M6U8bX0_4igS5m2PPEi-IcuHHKbIDsGIiEKovwElnT2fxbsEMhYz3vk6wTEvA5Y5SDJ6DSYQk085uR51CPtta71Cgj__zMcdPZcxQ3avrr1I2-Uri2XXlXMDOnhq-hgMRnaGY8R8Yf-1PfUsU-2N2-RSeWtRei55y57vYzUZazMJFvWC_2KFMv0qurw9lsYklG2Y_ILMu5r0KRMSaDIkVLsAODMHJ5q6ujQY6J2PMWBlg5CHDdxsrQLGYjhyxblpK27LwYb-h_jNaXq1VVekHPSVypZ2PcTnTLUz5AFNxXXcay0XZM4PtTloSjEk5o9Pj139vxXDlal-DawU46XHaA1_SyLbw9QUTDNrv242M4lH1I7E3VXL6wxPp7txlS_pbdWyMf3lssmdnq9MtCCUvCLHuJ-anfaMi3yrSx0OJBFcgMEfSIFaSB97WVVI2_Y8fpTJui4u0qbjicKTTYRT6Vz72HKSeRUmZ4A478dG9eH_DusyHqv1UtzipbayN4qrkkhKuL8JHNcKTVKUePmEyPVL1bQOvGnI9bNWEkpduOxUyIKlzIClhbiJzMYjFhG5xGvtgk87WOSe85GbjYQKTWs51rOSbcmwCVtBCOgaOXmtSu5BI2dGDJsCR2GrPjg8W80ydcMIdtmk2I3bMP3scgXqJJaLkMJ1xMLH2fMZGy-gJpNRi0tp57F4M9QtdXaZUmkFh4wKWggTYTZ0NPNaV95_3tICquHsev_8nXUynNm2T5QjfgyJ4nDRSiN7e7QmcEonHsx_lc4pFKF4L7L-JOBFsIFm3v_u-KeaOunIiYjiLhmZNtrEOqcyTDxEJ3BXlF79cpjli1bRsgLVecUEvNRnRBHQ7mttt0NBEshVLl3nG1I2vRjAaBkBfYpA3vmF6mr2_Nb79Y7o5yttAtTze3pWjgKruHSTpvPSEplRc1KvOEdr_eyyx1zk36QOAsBIL6OtVB2d_c6N4HeHdy6h1O6CVUxERXpqJ23h8gv_Q3f6zWZI8u3Pe6XNo2ftNFnSs_ycXut6QqzCtQtPE0vhP7AEs7vcVUieKFgTKBqoWyKvB2Y-H0iWU-11TBfoZbmirc4PbvKVBXP5EsC6dY9MYL0PJcrRqamLC7yxu1Ty&CLICK&reqid=zTwRuwi9df&pos=85&redirect=https%3A%2F%2Ftiki.vn%2Fkhoa-hoc-marketing-online-can-ban-agilearn-p79623428.html%3Fspid%3D79623431', 'image': 'https://salt.tikicdn.com/cache/280x280/ts/product/3d/f5/8d/7a45413e2559faedba0dd253f6cbf71d.jpg'}, {'name': 'Lotteria - Combo A', 'price': '63.200 ₫', 'product_url': 'https://tiki.vnhttps://tiki.vn/lotteria-combo-a-p101361909.html', 'image': 'https://salt.tikicdn.com/cache/280x280/ts/product/e4/0a/d3/962fc4943e2bea483af6e438d28b3f07.jpg'}, {'name': 'Jeonbok - Set Buffet Trưa', 'price': '500.000 ₫', 'product_url': 'https://tiki.vnhttps://tiki.vn/jeonbok-set-buffet-trua-p98822047.html', 'image': 'https://salt.tikicdn.com/cache/280x280/ts/product/00/f3/5c/0d1cf74513f6c71674b508fd04ae1509.jpg'}, {'name': '', 'price': '', 'product_url': 'https://tiki.vnhttps://tiki.vn/ngan-sach-tiki-ads-danh-cho-thuong-hieu-50-000-000d-p52583772.html', 'image': 'https://salt.tikicdn.com/cache/280x280/ts/product/de/30/72/d366cc4427a3d924c8576a2afb2ad235.jpg'}, {'name': 'AdKhóa học Tài chính và Đầu tư - Agilearn', 'price': '560.000 ₫', 'product_url': 'https://tiki.vnhttps://tka.tiki.vn/pixel?data=djAwMVr3lyn1N3UpBK7BTVIf-uj6YlcAScMV5AZB6I-ZuRY1Pl0r5MI32iyhdHDiHcd1vqkdEm0SMq4oW16mT-8tDJ-jcGiHSekqvBpBZikRthay8EYFsPHgOuIrK6MsJVKcG8x4d6BuTJHqLmW7fXbO1f_xn5ZMlopkGjHCL4_xUMgppDs7G2PWAtLLBHvPvsgZlWgjdhpegIAl4mACaik5dbBQ1uTJYLSi-f_JJbL-BArG-1aYlwEhOB71fWtvDGGQZr4E3OIqzuGiG8YqP3sDV4sFLP5EolLO_p22j_UH4Wlzjslqysuk9-tPwTz8czS7z5mrLYua4vk4sArqBB1_tF8Y3xiK2b-Ywx4gfPi6pzj8Z-X0uI99iBgB6PuQFTRGK3mhVYIXBTrbsF-xa-PDh8b_PGL2uG4yGfs8hukasOJ9Xkbsz1a4t3JZ-omTQNPzhf502PWzQoqa9USN2MUW7T2kqeEhajKr4lbAEqDmIWgAa2H_IBKhkszE74Is59E8kN1J6HVmg16mpk6tD6RRG4YUxbX3ooXbPU-Z_ss7UGaCUApaYkpwMXmiQPU-WbDUqemHwxxITbD9Gv1mpUneQ17rebRFw73zbq1yf1HQg11_-S3NP_YQ1xAWIfDEA2IEJ-PlkAvw7drewIMXxLXs2u2yunNOkz51uLtnvVp2q8M47JSEmK6T0fOjlf1bTl2G8NMUDB3IDN5OrMJ9YKPeD4mMld_5omTmYTfWA7gNBNgifiJoXEUMzmtWRXiVRqkJVe1cn__xrIcU5y1b8BZrFz7nR7TCKzs_4SKrEGtFVp2haAFDAJE7ueFQk1CI7wRfMLCl_TVodjq8Yd1xxSlmLaaZawb9dFQfiqKknuTGGEGhyibnCxNwnQLnIhgeDYipz6cw46_ehHmTIoYqQZcYBBs5cHtieLMnaXI3RjWsdJGAdtfWb4n8wn68MdfGFIK8KSgRrGzKjK1BYK4X5RWnFLpI5LsYz5QLy-SjJk5lfFWEEKuaBJbyTQo8aM8Vp5exKucq1qWibdURF3HISABhYKd3c4U6Ss10GCdf8JLQMyuwM8xGGYDqud63FvEMDualoIvlH-GgeQ9zw9exu-p24GihnW67j7cLEQj2BD4bvDlnfDY&CLICK&reqid=zTwRuwi9df&pos=89&redirect=https%3A%2F%2Ftiki.vn%2Fkhoa-hoc-tai-chinh-va-dau-tu-agilearn-p79762883.html%3Fspid%3D79762884', 'image': 'https://salt.tikicdn.com/cache/280x280/ts/product/db/e0/78/a6924209fa1f98c01590f12cf5efd031.jpg'}, {'name': 'Lobster Bay - Voucher 500g Crawfish Sốt Tự Chọn', 'price': '345.000 ₫', 'product_url': 'https://tiki.vnhttps://tiki.vn/lobster-bay-voucher-500g-crawfish-sot-tu-chon-p48313693.html', 'image': 'https://salt.tikicdn.com/cache/280x280/ts/product/dc/7b/29/57dbccf55e1b172887be04a741269684.jpg'}, {'name': 'Trọn bộ 5 khóa học Chứng khoán Online từ A-Z của chuyên gia tài chính Đặng Trọng Khang- UNICA.VN', 'price': '999.000 ₫', 'product_url': 'https://tiki.vnhttps://tiki.vn/tron-bo-5-khoa-hoc-chung-khoan-online-tu-a-z-cua-chuyen-gia-tai-chinh-dang-trong-khang-unica-vn-p94787960.html', 'image': 'https://salt.tikicdn.com/cache/280x280/ts/product/d1/cc/c5/3388a961ce4bd1abfb587a6f5f550efb.jpg'}, {'name': '', 'price': '', 'product_url': 'https://tiki.vnhttps://tiki.vn/jinro-bbq-buffet-bua-trua-cuoi-tuan-va-bua-toi-1-nguoi-p72716042.html', 'image': 'https://salt.tikicdn.com/cache/280x280/ts/product/ba/24/35/c8f090b5d4ac53a4c19d11aa5ed28478.jpg'}, {'name': 'AdSinh Trắc Vân Tay Gen Talents – Dịch Vụ Tham Vấn Chuyên Sâu Báo Cáo Sinh Trắc Vân Tay', 'price': '700.000 ₫', 'product_url': 'https://tiki.vnhttps://tka.tiki.vn/pixel?data=djAwMXbAe_7ak27RaFMkVwubHKCHtstbx7lxFsS54LWaMYGyqn6jDCcp_1lf02QOkNbkiSHUZfJuntQtab6SwMuaS-FMAv47KHPknRDo0PfmG0UCZ28IrnyAo1gsOX1K6OzJrorV_sDoaJFwFOHCuumVueskw0fIJG1OaRoDFklBdxDSPN8oZjjvRg72ZGoIIgG4zoSLdR--gO3rNP5dORSEmd4iQUqyV5EZ-QfFr24WdDaSUNk5zmBoHIy6fmR26cPT-WVi37MIXQZhNd1B-o3BVSkdNatQtE0ABNpVO8K-KpuzqdFj7i-jRbAzKJWwXr_cgxupr0XUYA-rV653N7jIaF08EelQoEYMg1LGfgKn0gOsNJ-NdaHbK1xlFHWS_Q8nrHqgqh_9Pb2lYJKSp03tc5QtXOzct6L-TiIfIyQZ3wVXRtPav6sifop3D1wYYWpoAU1u87iMuyEUY4eAZFNbJUzTyl-pX-gEVXU6Vlr2dGLojeWMNr7N1hCdhLzizxhLF_83AfP5DZxjWuu-bLVngxE2zpe39ATtfz9FpjzxuHFBPvf7fbByyzX1pp5vcAeaI_GWwIZ1KBo-HSPZ32D-UeiqNc2fibf16G9aJg8mK53YKJI-IKxMF14rbsOUPSuNHzyJwUDpF0fk2AkFhX2O4iVBo3OuW6GwA_TZuh5W2qo7eOtSAZpHuSI2JEG6H_2MetDxOnNlbGOcs0wzmdGUDS1g9lOIuVrL7Cv9nyjnPqqeSdksOpW3q9uzbBKjoyQLas8uZS6K4V-J5hKD8fpxZAHLrFmOEimiP1N2B8tYeLETJcJuNe7lYpFyX-8X4S6NIzwAIn_HqrnF5W3nKTZOF8NwsO3Ifcy1z9o3wh_1SZe9vcaPeGOANqOodhWDeQ8fXJlIH19vHg6hdIYa1dtP4Jo3WAy1xgncZrZSHJ1CkV_OdIjYzL1iAhQTdb1-oJrHzLnp7tqiEzvfPEzfykhZ8mB-ki5lLncfbdKU01DE18CeZEKP2nmXVqgNscFU_DnmSfO4nPN5Mw3R2EEacGxS88Wj_YngW_NOPe6BskEeQWl3UFdiBOvLu1G5hO9TLTFyWT-xCfmZ_BOHhj_4N5CaN07CXECcwJOBE0tvYrLb5p38JA&CLICK&reqid=zTwRuwi9df&pos=93&redirect=https%3A%2F%2Ftiki.vn%2Fsinh-trac-van-tay-gen-talents-dich-vu-tham-van-chuyen-sau-bao-cao-sinh-trac-van-tay-p110743094.html%3Fspid%3D110743095', 'image': 'https://salt.tikicdn.com/cache/280x280/ts/product/b2/63/ef/d807c6084d9c16963a34b239f3077b92.PNG'}, {'name': 'Toàn quốc [E-voucher] - Ưu đãi 100K đặt hoa Flowerstore giao ngay trong ngày', 'price': '50.000 ₫', 'product_url': 'https://tiki.vnhttps://tiki.vn/toan-quoc-e-voucher-uu-dai-100k-dat-hoa-flowerstore-giao-ngay-trong-ngay-p102485503.html', 'image': 'https://salt.tikicdn.com/cache/280x280/ts/product/bb/a8/3e/81ee141f0eab9c76ce0dbeb973754be2.jpg'}, {'name': 'Jang Gun Zip/ Bu Too Mac - Phiếu Quà Tặng 1000k', 'price': '1.000.000 ₫', 'product_url': 'https://tiki.vnhttps://tiki.vn/jang-gun-zip-bu-too-mac-phieu-qua-tang-1000k-p72716384.html', 'image': 'https://salt.tikicdn.com/cache/280x280/ts/product/7b/63/95/30563f472de77bc2575b15daf5be7692.jpg'}, {'name': '', 'price': '', 'product_url': 'https://tiki.vnhttps://tiki.vn/khoa-hoc-video-di-kem-so-tay-thuc-hanh-tinh-ket-cau-mong-p54114344.html', 'image': 'https://salt.tikicdn.com/cache/280x280/ts/product/4d/9d/b6/2ca8558f73736bcbff23623c5b2ab969.jpg'}, {'name': 'AdPMX - Khóa học Quản trị dự án - Kỹ năng Quản lý - Agilearn | Giải pháp Đào tạo Số hàng đầu cho Doanh nghiệp tại Việt Nam', 'price': '780.000 ₫', 'product_url': 'https://tiki.vnhttps://tka.tiki.vn/pixel?data=djAwMbCcp_RWOwILLtYSKgJQtTIZUc2qCa5Qr9pqs08-90QXfNUKFAAt_njaYHA3M--Kpg4xCzbOypvV6uX6tVL-SIX9g-5RUOZs7IvnZ4h5XCwRNGRcKl59gPGcATq_wCvRlruoJzge3cjR1gVw7r1-qDSxaZouSTPghgrwjATqY3HASMgcv1E4MfpJlIDEa4IlKe5eXM5QvVzjS_XFdwu4FC8Vvyfziy3Q23-u3RpZd_XIBKXc8GW0URTUs8RM9fVEEJjaGUxb3beUchvQhWASzDN3fheipRaHh-IGXuDZM4tUJIWJkrF7NHNyJbtn2vAQzWuLZy-0ygUPKbm4CTr9LsSlPKMpCn7RQN2GgKA2BbkC6fr_RDLlGzbMj5DHPEVtMh9Z93xH2FZoK3M_vOvLR0kUIoqPOlrhWqWOITEx67YsFekDBROLAdNW3lE-LFShj06fE1-cUrziKR9F1wIMb-6P90w71V0iyBWi9gRWeN_ngQnJ1ot4wSq_a5LFUD96rDdLDUVz7bpkeZwhPjAJMkHOtSIjhdyWD1qTXAMLJVeb-NG22vt87hGNu9W4AxWSqXrNFgvW6SpswHDZK6cT1LW8-mJVYHaLrdBbQgIDQxmjo3U5AbgV3qLZj8LfNAdcwxesXzsNHZC4r8TtOMyCYqVoESFvbzJSyWqk4ozkN65zGuvzOSUhCp5Q75jdz-MCwJ3dC0rpvFqbdQk__5qK8JrYZx7_CLveSjGtGmjHi0pZx-8meaZ5nQmv_Tn9CUhLhm-HhT71lHSaCIOz3A-blydiHvYDQ0cT-uPv3_68Yzskexbv-lyb3ANR1AAA9Lwst_GWyc-g7oES-mTRNqkcHtRtcuKHPf-PlbgsNCQ0dP4c58HbgdPvTEJEQE2xZBU8DTN-ispsrerbvoMXJW3xe_2J4ZV-V0GUT32LGTGOyDEt41_FPvxuXOutwPqZanzxnlJPYw9ugua3iz7QQRuXrDi4jlsumO6UtH5jFh0GiXnhLk6aw1jZOTg1KuKGke06z0CYtIt9ild7L-5ynHc4btgsox7H4mKJJ78s8ODNvBuY4HYlI81gZEo25aTxJjQ6FIaxfV6drOJe7kfDC1j4QCD95zIpQfUGe_t_jCx646ygSpxkvAsU&CLICK&reqid=zTwRuwi9df&pos=97&redirect=https%3A%2F%2Ftiki.vn%2Fpmx-khoa-hoc-quan-tri-du-an-ky-nang-quan-ly-agilearn-giai-phap-dao-tao-so-hang-dau-cho-doanh-nghiep-tai-viet-nam-p76693893.html%3Fspid%3D76693894', 'image': 'https://salt.tikicdn.com/cache/280x280/ts/product/4e/7e/2f/b4884c8d7a485fd71d0617ecd6f127c3.jpg'}, {'name': 'Khóa Học Guitar Đệm Hát 30 Ngày Cùng Hiển Râu', 'price': '319.200 ₫', 'product_url': 'https://tiki.vnhttps://tiki.vn/khoa-hoc-guitar-dem-hat-30-ngay-cung-hien-rau-p1702393.html', 'image': 'https://salt.tikicdn.com/cache/280x280/ts/product/cb/c4/60/b683574270e84a1e3a4361a2a9034cf3.jpg'}, {'name': 'Khóa Học Online Luyện TOEIC 700+', 'price': '299.000 ₫', 'product_url': 'https://tiki.vnhttps://tiki.vn/khoa-hoc-online-luyen-toeic-700-p973124.html', 'image': 'https://salt.tikicdn.com/cache/280x280/ts/product/a7/25/4e/43b97a9747eb97760d71013175a6a959.png'}, {'name': '', 'price': '', 'product_url': 'https://tiki.vnhttps://tiki.vn/khoa-hoc-nuoi-day-con-toan-soroban-tinh-sieu-toc-cong-tru-nhan-chia-cho-be-tu-4-12-tuoi-p72197772.html', 'image': 'https://salt.tikicdn.com/cache/280x280/ts/product/86/d3/61/d98abe690bd8b7d2679424db19eb505d.jpg'}, {'name': 'Sữa Chua Hy Lạp Lucas HCM - Sáng Mịn Làn Da Cân Bằng Vóc Dáng - Combo 10 Hộp Sữa Chua Hương Vị Truyền Thống - AD Giao Hàng', 'price': '306.000 ₫', 'product_url': 'https://tiki.vnhttps://tiki.vn/sua-chua-hy-lap-lucas-hcm-sang-min-lan-da-can-bang-voc-dang-combo-10-hop-sua-chua-huong-vi-truyen-thong-ad-giao-hang-p19578796.html', 'image': 'https://salt.tikicdn.com/cache/280x280/ts/product/3e/c9/58/62eb7c46eecf135e7bbdbb09727cfeda.jpg'}, {'name': 'Khóa học luyện thi chứng chỉ Tin học IC3', 'price': '590.000 ₫', 'product_url': 'https://tiki.vnhttps://tiki.vn/khoa-hoc-luyen-thi-chung-chi-tin-hoc-ic3-p51146494.html', 'image': 'https://salt.tikicdn.com/cache/280x280/ts/product/fd/1c/96/536ba89e845265333f85603348f3cf04.png'}, {'name': 'Phần mềm diệt Virus Eset Internet Security 1 User 2 Years - Bản quyền 1 Máy/2 Năm - Hàng Chính Hãng', 'price': '205.000 ₫', 'product_url': 'https://tiki.vnhttps://tiki.vn/phan-mem-diet-virus-eset-internet-security-1-user-2-years-ban-quyen-1-may-2-nam-hang-chinh-hang-p102876054.html', 'image': 'https://salt.tikicdn.com/cache/280x280/ts/product/e6/13/9b/7e77f754a83f208631f06c54b7a9ab62.png'}, {'name': '', 'price': '', 'product_url': 'https://tiki.vnhttps://tiki.vn/khoa-1000-cau-trac-nghiem-giai-tich-hinh-hoc-toan-lop-12-theo-chuyen-de-p105700787.html', 'image': 'https://salt.tikicdn.com/ts/upload/dc/0d/49/3251737db2de83b74eba8a9ad6d03338.png'}, {'name': 'Paris Baguette - Bánh Kem Sữa Tươi Socola (19cm) áp dụng tại các chi nhánh', 'price': '370.000 ₫', 'product_url': 'https://tiki.vnhttps://tiki.vn/banh-kem-sua-tuoi-socola-19cm-_-ap-dung-tai-ho-chi-minh-p71160308.html', 'image': 'https://salt.tikicdn.com/cache/280x280/ts/product/65/29/e0/f6a9d43489d9e3d35d6f01e0dfffaceb.jpg'}, {'name': '[E-Voucher] Bảo Hiểm Bắt Buộc Trách Nhiệm Dân Sự EZIN- Xe Mô Tô 2 Bánh Dưới 50cc - Gói 12 tháng', 'price': '60.500 ₫', 'product_url': 'https://tiki.vnhttps://tiki.vn/e-voucher-bao-hiem-bat-buoc-trach-nhiem-dan-su-ezin-xe-mo-to-2-banh-duoi-50cc-goi-12-thang-p90712611.html', 'image': 'https://salt.tikicdn.com/cache/280x280/ts/product/29/93/cc/dee35cd096b70a711fd9b64949580a19.jpg'}, {'name': 'Paris Baguette - Bánh Kem Cappuccino (16cm) áp dụng tại các chi nhánh', 'price': '320.000 ₫', 'product_url': 'https://tiki.vnhttps://tiki.vn/banh-kem-cappuccino-16cm-_-ap-dung-tai-ho-chi-minh-p71160436.html', 'image': 'https://salt.tikicdn.com/cache/280x280/ts/product/a4/b6/af/900ff479cbf125c118d1d814e7d8a213.jpg'}, {'name': '', 'price': '', 'product_url': 'https://tiki.vnhttps://tiki.vn/goi-3n2d-premier-residences-phu-quoc-emerald-bay-5-buffet-sang-bai-khem-cuc-dep-ap-dung-den-20-12-p20918322.html', 'image': 'https://salt.tikicdn.com/cache/280x280/ts/product/67/74/bd/f5fc6becbac7c68b7a969823fbd062b4.jpg'}, {'name': 'KHÓA HỌC TOPIK II ONLINE - THẦY TƯ - KỲ THI 10/2021', 'price': '5.600.000 ₫', 'product_url': 'https://tiki.vnhttps://tiki.vn/khoa-hoc-topik-ii-online-thay-tu-ky-thi-10-2021-p107234703.html?spid=107234704', 'image': 'https://salt.tikicdn.com/cache/280x280/ts/product/e2/bd/23/37a82c6362d9a5596a84d9dfd587934b.png'}]\n"
          ],
          "name": "stdout"
        }
      ]
    },
    {
      "cell_type": "code",
      "metadata": {
        "id": "ZvsONC89Sq2c"
      },
      "source": [
        "      name = product_dict.get('name')\n",
        "      price = product_dict.get('price')\n",
        "      product_url = product_dict.get('product_url')\n",
        "      image = product_dict.get('image')"
      ],
      "execution_count": null,
      "outputs": []
    },
    {
      "cell_type": "code",
      "metadata": {
        "colab": {
          "base_uri": "https://localhost:8080/",
          "height": 275
        },
        "id": "2jEyRaOEh_Ek",
        "outputId": "1d0ac1d3-e1a6-4924-f239-704499bfc3d5"
      },
      "source": [
        "# brief overview of scraped data\n",
        "df.head()"
      ],
      "execution_count": null,
      "outputs": [
        {
          "output_type": "execute_result",
          "data": {
            "text/html": [
              "<div>\n",
              "<style scoped>\n",
              "    .dataframe tbody tr th:only-of-type {\n",
              "        vertical-align: middle;\n",
              "    }\n",
              "\n",
              "    .dataframe tbody tr th {\n",
              "        vertical-align: top;\n",
              "    }\n",
              "\n",
              "    .dataframe thead th {\n",
              "        text-align: right;\n",
              "    }\n",
              "</style>\n",
              "<table border=\"1\" class=\"dataframe\">\n",
              "  <thead>\n",
              "    <tr style=\"text-align: right;\">\n",
              "      <th></th>\n",
              "      <th>name</th>\n",
              "      <th>price</th>\n",
              "      <th>product_url</th>\n",
              "      <th>image</th>\n",
              "    </tr>\n",
              "  </thead>\n",
              "  <tbody>\n",
              "    <tr>\n",
              "      <th>0</th>\n",
              "      <td>AdSách Nói: Cà phê cùng Tony</td>\n",
              "      <td>10.000 ₫</td>\n",
              "      <td>https://tiki.vnhttps://tka.tiki.vn/pixel?data=...</td>\n",
              "      <td>https://salt.tikicdn.com/cache/280x280/ts/prod...</td>\n",
              "    </tr>\n",
              "    <tr>\n",
              "      <th>1</th>\n",
              "      <td>Phiếu Quà Tặng Tiki 50.000đ</td>\n",
              "      <td>50.000 ₫</td>\n",
              "      <td>https://tiki.vnhttps://tiki.vn/phieu-qua-tang-...</td>\n",
              "      <td>https://salt.tikicdn.com/ts/upload/dc/0d/49/32...</td>\n",
              "    </tr>\n",
              "    <tr>\n",
              "      <th>2</th>\n",
              "      <td>Phiếu Quà Tặng Tiki 100.000đ</td>\n",
              "      <td>100.000 ₫</td>\n",
              "      <td>https://tiki.vnhttps://tiki.vn/phieu-qua-tang-...</td>\n",
              "      <td>https://salt.tikicdn.com/ts/upload/dc/0d/49/32...</td>\n",
              "    </tr>\n",
              "    <tr>\n",
              "      <th>3</th>\n",
              "      <td></td>\n",
              "      <td></td>\n",
              "      <td>https://tiki.vnhttps://tiki.vn/phieu-qua-tang-...</td>\n",
              "      <td>https://salt.tikicdn.com/ts/upload/dc/0d/49/32...</td>\n",
              "    </tr>\n",
              "    <tr>\n",
              "      <th>4</th>\n",
              "      <td>AdSinh Trắc Vân Tay Gen Talents – Combo 25 Bài...</td>\n",
              "      <td>26.000.000 ₫</td>\n",
              "      <td>https://tiki.vnhttps://tka.tiki.vn/pixel?data=...</td>\n",
              "      <td>https://salt.tikicdn.com/cache/280x280/ts/prod...</td>\n",
              "    </tr>\n",
              "  </tbody>\n",
              "</table>\n",
              "</div>"
            ],
            "text/plain": [
              "                                                name  ...                                              image\n",
              "0                       AdSách Nói: Cà phê cùng Tony  ...  https://salt.tikicdn.com/cache/280x280/ts/prod...\n",
              "1                        Phiếu Quà Tặng Tiki 50.000đ  ...  https://salt.tikicdn.com/ts/upload/dc/0d/49/32...\n",
              "2                       Phiếu Quà Tặng Tiki 100.000đ  ...  https://salt.tikicdn.com/ts/upload/dc/0d/49/32...\n",
              "3                                                     ...  https://salt.tikicdn.com/ts/upload/dc/0d/49/32...\n",
              "4  AdSinh Trắc Vân Tay Gen Talents – Combo 25 Bài...  ...  https://salt.tikicdn.com/cache/280x280/ts/prod...\n",
              "\n",
              "[5 rows x 4 columns]"
            ]
          },
          "metadata": {
            "tags": []
          },
          "execution_count": 16
        }
      ]
    }
  ]
}